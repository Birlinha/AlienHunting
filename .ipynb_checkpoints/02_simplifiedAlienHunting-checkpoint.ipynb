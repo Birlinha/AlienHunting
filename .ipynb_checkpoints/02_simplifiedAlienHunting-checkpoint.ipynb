{
 "cells": [
  {
   "cell_type": "markdown",
   "metadata": {
    "colab_type": "text",
    "id": "view-in-github"
   },
   "source": [
    "<a href=\"https://colab.research.google.com/github/Birlinha/AlienHunting/blob/main/02_simplifiedAlienHunting.ipynb\" target=\"_parent\"><img src=\"https://colab.research.google.com/assets/colab-badge.svg\" alt=\"Open In Colab\"/></a>"
   ]
  },
  {
   "cell_type": "markdown",
   "metadata": {
    "id": "azuKt4rzyr8f"
   },
   "source": [
    "# 👽 Quem está pronto para um **Encontro Imediato** 🛸?\n",
    "\n",
    "Hoje vamos analisar imagens de satélite, em busca de atividade alienígena\n",
    "\n",
    "Para realizar isso, antes precisamos entender um pouco sobre a Escala de Kardashev. Ela serve como régua para aferição do tamanho e influência de uma civilização sobre os planetas e galáxias em que habitam"
   ]
  },
  {
   "cell_type": "code",
   "execution_count": null,
   "metadata": {
    "colab": {
     "base_uri": "https://localhost:8080/",
     "height": 742
    },
    "id": "DkksQ7N1ymZA",
    "outputId": "a713bfed-3d6b-4dcf-a8e4-c6dc5216f649"
   },
   "outputs": [
    {
     "data": {
      "text/html": [
       "<img src=\"https://danhairfield.files.wordpress.com/2014/05/paul.jpg\" style=\"width:100%;height:720px;      object-fit:cover;object-position:0 30%;\">"
      ],
      "text/plain": [
       "<IPython.core.display.HTML object>"
      ]
     },
     "metadata": {},
     "output_type": "display_data"
    }
   ],
   "source": [
    "%%html\n",
    "<img src=\"https://danhairfield.files.wordpress.com/2014/05/paul.jpg\" style=\"width:100%;height:720px;      object-fit:cover;object-position:0 30%;\">"
   ]
  },
  {
   "cell_type": "markdown",
   "metadata": {
    "id": "nlS_UCmpzCG3"
   },
   "source": [
    "# Escala Kardashev\n",
    "Essa é a escala de classificação de civilizações (projetada com a intenção de identificar e categorizar civilizações extra-terrestres):\n",
    "\n",
    "- TIPO 0 [🦠] - É capaz de utilizar toda a Enegia disponível em seu próprio organismo\n",
    "- TIPO 1 [🌎] - O organismo é capaz de utilizar toda a energia disponível no planeta em que vive\n",
    "- TIPO 2 [☀️] - Toda Energia disponível em seu sistema solar/estrela\n",
    "- TIPO 3 [🌌] - Energia de toda uma galáxia\n",
    "- TIPO 4 [⚛️] - E = mc², em múltiplas galáxias"
   ]
  },
  {
   "cell_type": "code",
   "execution_count": null,
   "metadata": {
    "colab": {
     "base_uri": "https://localhost:8080/",
     "height": 337
    },
    "id": "EH7dYrQgytne",
    "outputId": "aad3f3a8-16e2-448f-c987-42ac3e57cb85"
   },
   "outputs": [
    {
     "data": {
      "text/html": [
       "<iframe width=\"560\" height=\"315\" src=\"https://www.youtube.com/embed/rhFK5_Nx9xY?clip=Ugkx_FClgV4g75KAxU45UusDWJHSqmQioj8D&amp;clipt=ELm6Cxjr-Q4\" title=\"YouTube video player\" frameborder=\"0\" allow=\"accelerometer; autoplay; clipboard-write; encrypted-media; gyroscope; picture-in-picture\" allowfullscreen></iframe>"
      ],
      "text/plain": [
       "<IPython.core.display.HTML object>"
      ]
     },
     "metadata": {},
     "output_type": "display_data"
    }
   ],
   "source": [
    "%%html\n",
    "<iframe width=\"560\" height=\"315\" src=\"https://www.youtube.com/embed/rhFK5_Nx9xY?clip=Ugkx_FClgV4g75KAxU45UusDWJHSqmQioj8D&amp;clipt=ELm6Cxjr-Q4\" title=\"YouTube video player\" frameborder=\"0\" allow=\"accelerometer; autoplay; clipboard-write; encrypted-media; gyroscope; picture-in-picture\" allowfullscreen></iframe>"
   ]
  },
  {
   "cell_type": "markdown",
   "metadata": {
    "id": "LSRCvantz072"
   },
   "source": [
    "# Propostas de formas de Detecção de Civilizações\n",
    "\n",
    "Como encontrar uma civilização entre os Tipo 3 🌌 e Tipo 4 ⚛️\n",
    "\n",
    "- Detecção de ondas gravitacionais\n",
    "\n",
    "  1- porquê: civilizações avançadas podem estar interessadas na quantidade de energia armazenada em buracos negros, ou suas reações em forma de ondas gravitacionais.\n",
    "\n",
    "  2- como: identificação de ondas gravitacionais, análise de causa-raiz (o que causou a onda). Quando soubermos a fonte da onda, poderemos procurar por atividade alienigena 👽 por onde essa onda passa, através de dados visuais 🔭 ou outras formas 💹\n",
    "\n",
    "  3- dados: [Gravitational Wave Open Science Center](https://www.gw-openscience.org/eventapi/html/GWTC/)"
   ]
  },
  {
   "cell_type": "code",
   "execution_count": 3,
   "metadata": {
    "id": "cWCkaQM0zU9n"
   },
   "outputs": [
    {
     "name": "stdout",
     "output_type": "stream",
     "text": [
      "Requirement already satisfied: gwosc in c:\\programdata\\anaconda3\\lib\\site-packages (0.6.1)\n",
      "Requirement already satisfied: requests>=1.0.0 in c:\\programdata\\anaconda3\\lib\\site-packages (from gwosc) (2.25.1)\n",
      "Requirement already satisfied: idna<3,>=2.5 in c:\\programdata\\anaconda3\\lib\\site-packages (from requests>=1.0.0->gwosc) (2.10)\n",
      "Requirement already satisfied: urllib3<1.27,>=1.21.1 in c:\\programdata\\anaconda3\\lib\\site-packages (from requests>=1.0.0->gwosc) (1.26.4)\n",
      "Requirement already satisfied: certifi>=2017.4.17 in c:\\programdata\\anaconda3\\lib\\site-packages (from requests>=1.0.0->gwosc) (2020.12.5)\n",
      "Requirement already satisfied: chardet<5,>=3.0.2 in c:\\users\\omena\\appdata\\roaming\\python\\python38\\site-packages (from requests>=1.0.0->gwosc) (3.0.4)\n"
     ]
    }
   ],
   "source": [
    "#!pip install gwosc"
   ]
  },
  {
   "cell_type": "markdown",
   "metadata": {
    "id": "OqDNISO43YRJ"
   },
   "source": [
    "# Coding Time\n",
    "\n",
    "[GWOSC Workshop](https://www.gw-openscience.org/odw/odw2022) - Gravitational Waves Open Science Center\n",
    "\n",
    "Vamos usar o pacote de python provisionado por eles"
   ]
  },
  {
   "cell_type": "code",
   "execution_count": 7,
   "metadata": {},
   "outputs": [],
   "source": [
    "import gwosc\n",
    "import pandas as pd"
   ]
  },
  {
   "cell_type": "code",
   "execution_count": 5,
   "metadata": {},
   "outputs": [
    {
     "ename": "AttributeError",
     "evalue": "module 'gwosc' has no attribute 'datasets'",
     "output_type": "error",
     "traceback": [
      "\u001b[1;31m---------------------------------------------------------------------------\u001b[0m",
      "\u001b[1;31mAttributeError\u001b[0m                            Traceback (most recent call last)",
      "\u001b[1;32m<ipython-input-5-2dbac4d1114d>\u001b[0m in \u001b[0;36m<module>\u001b[1;34m\u001b[0m\n\u001b[1;32m----> 1\u001b[1;33m \u001b[0mjfile\u001b[0m \u001b[1;33m=\u001b[0m \u001b[0mgwosc\u001b[0m\u001b[1;33m.\u001b[0m\u001b[0mdatasets\u001b[0m\u001b[1;33m.\u001b[0m\u001b[0mapi\u001b[0m\u001b[1;33m.\u001b[0m\u001b[0mfetch_allevents_json\u001b[0m\u001b[1;33m(\u001b[0m\u001b[1;33m)\u001b[0m\u001b[1;33m\u001b[0m\u001b[1;33m\u001b[0m\u001b[0m\n\u001b[0m",
      "\u001b[1;31mAttributeError\u001b[0m: module 'gwosc' has no attribute 'datasets'"
     ]
    }
   ],
   "source": [
    "jfile = gwosc.datasets.api.fetch_allevents_json()"
   ]
  },
  {
   "cell_type": "code",
   "execution_count": null,
   "metadata": {},
   "outputs": [],
   "source": [
    "def gwos_json_to_pd(jsonfile):\n",
    "    i = jfile[\"events\"].keys()\n",
    "    dt = []\n",
    "    \n",
    "    for name in i:\n",
    "        d = jfile[\"events\"][name]\n",
    "        dt.append(d)\n",
    "    \n",
    "    df = pd.DataFrame(index=i,data=dt)\n",
    "    return df"
   ]
  },
  {
   "cell_type": "code",
   "execution_count": 6,
   "metadata": {},
   "outputs": [
    {
     "ename": "NameError",
     "evalue": "name 'gwos_json_to_pd' is not defined",
     "output_type": "error",
     "traceback": [
      "\u001b[1;31m---------------------------------------------------------------------------\u001b[0m",
      "\u001b[1;31mNameError\u001b[0m                                 Traceback (most recent call last)",
      "\u001b[1;32m<ipython-input-6-2cfa7d58b607>\u001b[0m in \u001b[0;36m<module>\u001b[1;34m\u001b[0m\n\u001b[1;32m----> 1\u001b[1;33m \u001b[0mdf\u001b[0m \u001b[1;33m=\u001b[0m \u001b[0mgwos_json_to_pd\u001b[0m\u001b[1;33m(\u001b[0m\u001b[0mjfile\u001b[0m\u001b[1;33m)\u001b[0m\u001b[1;33m\u001b[0m\u001b[1;33m\u001b[0m\u001b[0m\n\u001b[0m",
      "\u001b[1;31mNameError\u001b[0m: name 'gwos_json_to_pd' is not defined"
     ]
    }
   ],
   "source": [
    "df = gwos_json_to_pd(jfile)"
   ]
  },
  {
   "cell_type": "code",
   "execution_count": null,
   "metadata": {},
   "outputs": [],
   "source": []
  }
 ],
 "metadata": {
  "colab": {
   "authorship_tag": "ABX9TyOBgPol6vAJ1r2NLzfGWj7W",
   "include_colab_link": true,
   "name": "02-simplifiedAlienHunting.ipynb",
   "provenance": []
  },
  "kernelspec": {
   "display_name": "Python 3",
   "language": "python",
   "name": "python3"
  },
  "language_info": {
   "codemirror_mode": {
    "name": "ipython",
    "version": 3
   },
   "file_extension": ".py",
   "mimetype": "text/x-python",
   "name": "python",
   "nbconvert_exporter": "python",
   "pygments_lexer": "ipython3",
   "version": "3.8.8"
  }
 },
 "nbformat": 4,
 "nbformat_minor": 1
}
