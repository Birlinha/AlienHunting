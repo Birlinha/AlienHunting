{
  "nbformat": 4,
  "nbformat_minor": 0,
  "metadata": {
    "colab": {
      "name": "03-Parecer do Comitê de Ética.ipynb",
      "provenance": [],
      "authorship_tag": "ABX9TyOjZM3/cR8H0WOVE07Hktf7",
      "include_colab_link": true
    },
    "kernelspec": {
      "name": "python3",
      "display_name": "Python 3"
    },
    "language_info": {
      "name": "python"
    }
  },
  "cells": [
    {
      "cell_type": "markdown",
      "metadata": {
        "id": "view-in-github",
        "colab_type": "text"
      },
      "source": [
        "<a href=\"https://colab.research.google.com/github/Birlinha/AlienHunting/blob/main/03_Parecer_do_Comit%C3%AA_de_%C3%89tica.ipynb\" target=\"_parent\"><img src=\"https://colab.research.google.com/assets/colab-badge.svg\" alt=\"Open In Colab\"/></a>"
      ]
    },
    {
      "cell_type": "markdown",
      "source": [
        "# Instruções, Premissas e Objetivos dos Algoritmos\n",
        "\n",
        "Considerando que nosso planeta existe dentro de um sistema solar, e esse sistema dentro de uma galáxia, e esta se situa dentro de um grupo local - é muito difícil acreditar que estamos sozinhos.\n",
        "\n",
        "Portanto, a busca por outras espécies é um passo lógico na evolução multi-planetária, e já foram conduzidas tentativas de lançar informação humana para o espaço, como é o caso da [voyager 1 golden record](https://en.wikipedia.org/wiki/Voyager_Golden_Record#:~:text=The%20Voyager%20Golden%20Records%20are,form%20who%20may%20find%20them.), um disco de ouro projetado para que se alguém encontrasse a sonda - pudesse devolver para os donos.\n",
        "\n",
        "O objetivo dos algoritmos produzidos é de encontrar atividade alienígena em dados sobre astronomia. As civilizações que seriam mais evidentes, seriam civilizações extremamente avançadas, devido aos seus altos custos de energia e super-estruturas - e portanto a escolha da principal fonte de dados, os experimentos com ondas gravitacionais da LIGO"
      ],
      "metadata": {
        "id": "2hb_Lr2DQvOV"
      }
    },
    {
      "cell_type": "markdown",
      "source": [
        ""
      ],
      "metadata": {
        "id": "yjofD_yAQy8k"
      }
    },
    {
      "cell_type": "code",
      "execution_count": null,
      "metadata": {
        "id": "sZ-nwejlQOLA"
      },
      "outputs": [],
      "source": [
        ""
      ]
    }
  ]
}