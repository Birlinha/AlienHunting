{
  "nbformat": 4,
  "nbformat_minor": 0,
  "metadata": {
    "colab": {
      "name": "Alien Hunting.ipynb",
      "provenance": [],
      "authorship_tag": "ABX9TyN2JsRnt9eqz+7XOv+C9Pje",
      "include_colab_link": true
    },
    "kernelspec": {
      "name": "python3",
      "display_name": "Python 3"
    },
    "language_info": {
      "name": "python"
    }
  },
  "cells": [
    {
      "cell_type": "markdown",
      "metadata": {
        "id": "view-in-github",
        "colab_type": "text"
      },
      "source": [
        "<a href=\"https://colab.research.google.com/github/Birlinha/AlienHunting/blob/main/AlienHunting.ipynb\" target=\"_parent\"><img src=\"https://colab.research.google.com/assets/colab-badge.svg\" alt=\"Open In Colab\"/></a>"
      ]
    },
    {
      "cell_type": "code",
      "source": [
        "%%html\n",
        "<img src=\"https://danhairfield.files.wordpress.com/2014/05/paul.jpg\" style=\"width:100%;height:720px;      object-fit:cover;object-position:0 30%;\">"
      ],
      "metadata": {
        "colab": {
          "base_uri": "https://localhost:8080/",
          "height": 742
        },
        "id": "oZzbSGbI2yIQ",
        "outputId": "0faac3f1-9cde-4646-917f-888634ba48ba"
      },
      "execution_count": 38,
      "outputs": [
        {
          "output_type": "display_data",
          "data": {
            "text/plain": [
              "<IPython.core.display.HTML object>"
            ],
            "text/html": [
              "<img src=\"https://danhairfield.files.wordpress.com/2014/05/paul.jpg\" style=\"width:100%;height:720px;      object-fit:cover;object-position:0 30%;\">"
            ]
          },
          "metadata": {}
        }
      ]
    },
    {
      "cell_type": "markdown",
      "source": [
        "# 👽 Quem está pronto para um *Encontro Imediato* 🛸?\n",
        "\n",
        "Hoje vamos analisar imagens de satélite, em busca de atividade alienígena\n",
        "\n",
        "Para realizar isso, antes precisamos entender um pouco sobre a Escala de Kardashev. Ela serve como régua para aferição do tamanho e influência de uma civilização sobre os planetas e galáxias em que habitam"
      ],
      "metadata": {
        "id": "9_gxhZV55rdH"
      }
    },
    {
      "cell_type": "code",
      "source": [
        "%%html\n",
        "<iframe width=\"560\" height=\"315\" src=\"https://www.youtube.com/embed/rhFK5_Nx9xY?clip=Ugkx_FClgV4g75KAxU45UusDWJHSqmQioj8D&amp;clipt=ELm6Cxjr-Q4\" title=\"YouTube video player\" frameborder=\"0\" allow=\"accelerometer; autoplay; clipboard-write; encrypted-media; gyroscope; picture-in-picture\" allowfullscreen></iframe>"
      ],
      "metadata": {
        "colab": {
          "base_uri": "https://localhost:8080/",
          "height": 337
        },
        "id": "a7RvevqY-Z9B",
        "outputId": "56987361-9ea3-4955-f13e-8ddf6a461e64"
      },
      "execution_count": 56,
      "outputs": [
        {
          "output_type": "display_data",
          "data": {
            "text/plain": [
              "<IPython.core.display.HTML object>"
            ],
            "text/html": [
              "<iframe width=\"560\" height=\"315\" src=\"https://www.youtube.com/embed/rhFK5_Nx9xY?clip=Ugkx_FClgV4g75KAxU45UusDWJHSqmQioj8D&amp;clipt=ELm6Cxjr-Q4\" title=\"YouTube video player\" frameborder=\"0\" allow=\"accelerometer; autoplay; clipboard-write; encrypted-media; gyroscope; picture-in-picture\" allowfullscreen></iframe>"
            ]
          },
          "metadata": {}
        }
      ]
    },
    {
      "cell_type": "markdown",
      "source": [
        "Essa é a escala de classificação de civilizações (projetada com a intenção de identificar civilizações extra-terrestres):\n",
        "\n",
        "- TIPO 0 [🦠] - É capaz de utilizar toda a Enegia disponível em seu próprio organismo\n",
        "- TIPO 1 [🌎] - O organismo é capaz de utilizar toda a energia disponível no planeta em que vive\n",
        "- TIPO 2 [☀️] - Toda Energia disponível em seu sistema solar/estrela\n",
        "- TIPO 3 [🌌] - Energia de toda uma galáxia\n",
        "- TIPO 4 [⚛️] - E = mc², em múltiplas galáxias"
      ],
      "metadata": {
        "id": "NFs4XM8S7qHQ"
      }
    },
    {
      "cell_type": "markdown",
      "source": [
        "# O que estamos procurando\n",
        "\n",
        "Em teoria, Civilizações T-4 (Type IV) em diante utilizariam tanta energia do universo, que poderíamos ver a atividade de suas \"super-máquinas\" através do estudo do tecido do espaço-tempo 🧬⌛\n",
        "\n",
        "Já no caso de Civilizações T-3 (Type III), essas estariam consumindo estrelas inteiras para o processamento de suas necessidades. Esse processo provavelmente causaria a emissão de energia em outras formas - como os raios infra-vermelho, raios-x e raios gama \n",
        "\n",
        "No caso de Civilizações T-2 (Type II), essas talvez possam ser identificadas através da análise de oscilação de luz e energia em um sistema estelar; Isso acontece porque, neste nível, a civilização estaria em tese absorvendo energia de sua própria estrela-mãe, consumindo sua luz e impedindo-a de chegar a outras partes do universo\n",
        "\n",
        "No caso de Civilizações T-1 (Type I), é necessário um estudo muito mais aprofundado, com grande quantidade de informação sobre planetas habitáveis, e mais qualidade nas imagens e zooms precisos, além de que o tempo é relativo, então pode ser que essa civilização já não exista mais, ou esteja em outro estágio civilizatório\n",
        "\n",
        "\n",
        "## Então?\n",
        "\n",
        "De qualquer forma, encontrar qualquer evidência de vida no universo transformaria nossa compreensão sobre nós e o ambiente em torno de nós, e pode melhorar a forma como nós lidamos com o mundo ao nosso redor."
      ],
      "metadata": {
        "id": "vgyxMwOiAz0W"
      }
    },
    {
      "cell_type": "markdown",
      "source": [
        "# A relação Tully-Fisher como uma sonda para encontrar Astroengenharia de Esferas de Disson em galáxias de disco\n",
        "\n",
        "  O que é uma Esfera de Disson?\n",
        "\n",
        "  Seria, hipoteticamente, uma estrutura criada por uma civilização avançada para capturar a energia de uma estrela, e poder utilizar essa energia como bem entender.\n",
        "\n",
        "  Seria como um grande reator de fusão nuclear, tão grande que causa reações químicas-físicas que poderiam, em tese, ser observadas por civilizações em outras galáxias. "
      ],
      "metadata": {
        "id": "TZa4FsTeKXPx"
      }
    },
    {
      "cell_type": "code",
      "source": [
        ""
      ],
      "metadata": {
        "id": "Sh4mIj6c7SSo"
      },
      "execution_count": null,
      "outputs": []
    }
  ]
}