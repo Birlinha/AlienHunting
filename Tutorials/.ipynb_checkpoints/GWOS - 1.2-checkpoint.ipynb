{
 "cells": [
  {
   "cell_type": "markdown",
   "metadata": {
    "Collapsed": "false",
    "id": "tcXQnfN0vvWt"
   },
   "source": [
    "<img style=\"float: left;padding: 1.3em\" src=\"https://indico.in2p3.fr/event/18313/logo-786578160.png\">  \n",
    "\n",
    "#  Gravitational Wave Open Data Workshop #4\n",
    "\n",
    "\n",
    "#### Tutorial 1.2: Introduction to GWpy\n",
    "\n",
    "This tutorial will briefly describe GWpy, a python package for gravitational astrophysics, and walk-through how you can use this to speed up access to, and processing of, GWOSC data.\n",
    "    \n",
    "[Click this link to view this tutorial in Google Colaboratory](https://colab.research.google.com/github/gw-odw/odw-2021/blob/master/Day_1/Tuto%201.2%20Open%20Data%20access%20with%20GWpy.ipynb)\n",
    "\n",
    "<div class=\"alert alert-info\">This notebook was generated using python 3.8, but should work on python 2.7, 3.6, or 3.7.</div>"
   ]
  },
  {
   "cell_type": "markdown",
   "metadata": {
    "Collapsed": "false",
    "id": "AXkLJmTgvvWw"
   },
   "source": [
    "##  Installation  (execute only if running on a cloud platform, like Google Colab, or if you haven't done the installation already!)\n",
    "\n",
    "Note: we use [`pip`](https://docs.python.org/3.6/installing/), but **it is recommended** to use [conda](https://docs.ligo.org/lscsoft/conda/) on your own machine, as explained in the [installation instructions](https://github.com/gw-odw/odw-2021|/blob/master/setup.md). This usage might look a little different than normal, simply because we want to do this directly from the notebook."
   ]
  },
  {
   "cell_type": "code",
   "execution_count": 2,
   "metadata": {
    "Collapsed": "false",
    "id": "RDmzrP5yvvWx"
   },
   "outputs": [
    {
     "name": "stdout",
     "output_type": "stream",
     "text": [
      "Collecting gwpy\n",
      "  Using cached gwpy-2.1.3-py2.py3-none-any.whl (1.4 MB)\n",
      "Collecting ligo-segments>=1.0.0\n",
      "  Using cached ligo-segments-1.4.0.tar.gz (51 kB)\n",
      "Requirement already satisfied: matplotlib>=3.3.0 in c:\\programdata\\anaconda3\\lib\\site-packages (from gwpy) (3.3.4)\n",
      "Requirement already satisfied: numpy>=1.15.0 in c:\\programdata\\anaconda3\\lib\\site-packages (from gwpy) (1.20.1)\n",
      "Requirement already satisfied: scipy>=1.2.0 in c:\\programdata\\anaconda3\\lib\\site-packages (from gwpy) (1.6.2)\n",
      "Requirement already satisfied: gwosc>=0.5.3 in c:\\programdata\\anaconda3\\lib\\site-packages (from gwpy) (0.6.1)\n",
      "Requirement already satisfied: tqdm>=4.10.0 in c:\\programdata\\anaconda3\\lib\\site-packages (from gwpy) (4.59.0)\n",
      "Requirement already satisfied: h5py>=2.7.0 in c:\\programdata\\anaconda3\\lib\\site-packages (from gwpy) (2.10.0)\n",
      "Requirement already satisfied: astropy>=3.0.0 in c:\\programdata\\anaconda3\\lib\\site-packages (from gwpy) (4.2.1)\n",
      "Requirement already satisfied: python-dateutil in c:\\programdata\\anaconda3\\lib\\site-packages (from gwpy) (2.8.1)\n",
      "Collecting ligotimegps>=1.2.1\n",
      "  Using cached ligotimegps-2.0.1-py2.py3-none-any.whl (19 kB)\n",
      "Collecting gwdatafind\n",
      "  Using cached gwdatafind-1.1.1-py3-none-any.whl (45 kB)\n",
      "Collecting dqsegdb2\n",
      "  Using cached dqsegdb2-1.1.1-py3-none-any.whl (20 kB)\n",
      "Requirement already satisfied: pyerfa in c:\\programdata\\anaconda3\\lib\\site-packages (from astropy>=3.0.0->gwpy) (1.7.3)\n",
      "Requirement already satisfied: requests>=1.0.0 in c:\\programdata\\anaconda3\\lib\\site-packages (from gwosc>=0.5.3->gwpy) (2.25.1)\n",
      "Requirement already satisfied: six in c:\\programdata\\anaconda3\\lib\\site-packages (from h5py>=2.7.0->gwpy) (1.15.0)\n",
      "Requirement already satisfied: cycler>=0.10 in c:\\programdata\\anaconda3\\lib\\site-packages (from matplotlib>=3.3.0->gwpy) (0.10.0)\n",
      "Requirement already satisfied: kiwisolver>=1.0.1 in c:\\programdata\\anaconda3\\lib\\site-packages (from matplotlib>=3.3.0->gwpy) (1.3.1)\n",
      "Requirement already satisfied: pyparsing!=2.0.4,!=2.1.2,!=2.1.6,>=2.0.3 in c:\\programdata\\anaconda3\\lib\\site-packages (from matplotlib>=3.3.0->gwpy) (2.4.7)\n",
      "Requirement already satisfied: pillow>=6.2.0 in c:\\programdata\\anaconda3\\lib\\site-packages (from matplotlib>=3.3.0->gwpy) (8.2.0)\n",
      "Requirement already satisfied: certifi>=2017.4.17 in c:\\programdata\\anaconda3\\lib\\site-packages (from requests>=1.0.0->gwosc>=0.5.3->gwpy) (2020.12.5)\n",
      "Requirement already satisfied: urllib3<1.27,>=1.21.1 in c:\\programdata\\anaconda3\\lib\\site-packages (from requests>=1.0.0->gwosc>=0.5.3->gwpy) (1.26.4)\n",
      "Requirement already satisfied: idna<3,>=2.5 in c:\\programdata\\anaconda3\\lib\\site-packages (from requests>=1.0.0->gwosc>=0.5.3->gwpy) (2.10)\n",
      "Requirement already satisfied: chardet<5,>=3.0.2 in c:\\users\\omena\\appdata\\roaming\\python\\python38\\site-packages (from requests>=1.0.0->gwosc>=0.5.3->gwpy) (3.0.4)\n",
      "Requirement already satisfied: igwn-auth-utils[requests] in c:\\programdata\\anaconda3\\lib\\site-packages (from dqsegdb2->gwpy) (0.2.2)\n",
      "Requirement already satisfied: cryptography>=2.3 in c:\\programdata\\anaconda3\\lib\\site-packages (from igwn-auth-utils[requests]->dqsegdb2->gwpy) (3.4.7)\n",
      "Requirement already satisfied: scitokens>=1.7.0 in c:\\programdata\\anaconda3\\lib\\site-packages (from igwn-auth-utils[requests]->dqsegdb2->gwpy) (1.7.0)\n",
      "Requirement already satisfied: safe-netrc>=1.0.0 in c:\\programdata\\anaconda3\\lib\\site-packages (from igwn-auth-utils[requests]->dqsegdb2->gwpy) (1.0.0)\n",
      "Requirement already satisfied: cffi>=1.12 in c:\\programdata\\anaconda3\\lib\\site-packages (from cryptography>=2.3->igwn-auth-utils[requests]->dqsegdb2->gwpy) (1.14.5)\n",
      "Requirement already satisfied: pycparser in c:\\programdata\\anaconda3\\lib\\site-packages (from cffi>=1.12->cryptography>=2.3->igwn-auth-utils[requests]->dqsegdb2->gwpy) (2.20)\n",
      "Requirement already satisfied: PyJWT>=1.6.1 in c:\\programdata\\anaconda3\\lib\\site-packages (from scitokens>=1.7.0->igwn-auth-utils[requests]->dqsegdb2->gwpy) (2.4.0)\n",
      "Building wheels for collected packages: ligo-segments\n",
      "  Building wheel for ligo-segments (setup.py): started\n",
      "  Building wheel for ligo-segments (setup.py): finished with status 'error'\n",
      "  Running setup.py clean for ligo-segments\n",
      "Failed to build ligo-segments\n",
      "Installing collected packages: ligo-segments, ligotimegps, gwdatafind, dqsegdb2, gwpy\n"
     ]
    },
    {
     "name": "stderr",
     "output_type": "stream",
     "text": [
      "  ERROR: Command errored out with exit status 1:\n",
      "   command: 'C:\\ProgramData\\Anaconda3\\python.exe' -u -c 'import sys, setuptools, tokenize; sys.argv[0] = '\"'\"'C:\\\\Users\\\\omena\\\\AppData\\\\Local\\\\Temp\\\\pip-install-xroc_clx\\\\ligo-segments_4cad3ade1ba9496ea6b5db2ed6ccb815\\\\setup.py'\"'\"'; __file__='\"'\"'C:\\\\Users\\\\omena\\\\AppData\\\\Local\\\\Temp\\\\pip-install-xroc_clx\\\\ligo-segments_4cad3ade1ba9496ea6b5db2ed6ccb815\\\\setup.py'\"'\"';f=getattr(tokenize, '\"'\"'open'\"'\"', open)(__file__);code=f.read().replace('\"'\"'\\r\\n'\"'\"', '\"'\"'\\n'\"'\"');f.close();exec(compile(code, __file__, '\"'\"'exec'\"'\"'))' bdist_wheel -d 'C:\\Users\\omena\\AppData\\Local\\Temp\\pip-wheel-vcmyohk_'\n",
      "       cwd: C:\\Users\\omena\\AppData\\Local\\Temp\\pip-install-xroc_clx\\ligo-segments_4cad3ade1ba9496ea6b5db2ed6ccb815\\\n",
      "  Complete output (31 lines):\n",
      "  running bdist_wheel\n",
      "  running build\n",
      "  running build_py\n",
      "  creating build\n",
      "  creating build\\lib.win-amd64-3.8\n",
      "  creating build\\lib.win-amd64-3.8\\ligo\n",
      "  copying ligo\\__init__.py -> build\\lib.win-amd64-3.8\\ligo\n",
      "  creating build\\lib.win-amd64-3.8\\ligo\\segments\n",
      "  copying ligo\\segments\\utils.py -> build\\lib.win-amd64-3.8\\ligo\\segments\n",
      "  copying ligo\\segments\\__init__.py -> build\\lib.win-amd64-3.8\\ligo\\segments\n",
      "  running build_ext\n",
      "  building 'ligo.segments.__segments' extension\n",
      "  creating build\\temp.win-amd64-3.8\n",
      "  creating build\\temp.win-amd64-3.8\\Release\n",
      "  creating build\\temp.win-amd64-3.8\\Release\\src\n",
      "  C:\\Program Files (x86)\\Microsoft Visual Studio\\2019\\Community\\VC\\Tools\\MSVC\\14.29.30133\\bin\\HostX86\\x64\\cl.exe /c /nologo /Ox /W3 /GL /DNDEBUG /MD -Isrc -IC:\\ProgramData\\Anaconda3\\include -IC:\\ProgramData\\Anaconda3\\include \"-IC:\\Program Files (x86)\\Microsoft Visual Studio\\2019\\Community\\VC\\Tools\\MSVC\\14.29.30133\\include\" \"-IC:\\Program Files (x86)\\Windows Kits\\NETFXSDK\\4.8\\include\\um\" \"-IC:\\Program Files (x86)\\Windows Kits\\10\\include\\10.0.19041.0\\ucrt\" \"-IC:\\Program Files (x86)\\Windows Kits\\10\\include\\10.0.19041.0\\shared\" \"-IC:\\Program Files (x86)\\Windows Kits\\10\\include\\10.0.19041.0\\um\" \"-IC:\\Program Files (x86)\\Windows Kits\\10\\include\\10.0.19041.0\\winrt\" \"-IC:\\Program Files (x86)\\Windows Kits\\10\\include\\10.0.19041.0\\cppwinrt\" /Tcsrc/segments.c /Fobuild\\temp.win-amd64-3.8\\Release\\src/segments.obj\n",
      "  segments.c\n",
      "  C:\\Program Files (x86)\\Microsoft Visual Studio\\2019\\Community\\VC\\Tools\\MSVC\\14.29.30133\\bin\\HostX86\\x64\\cl.exe /c /nologo /Ox /W3 /GL /DNDEBUG /MD -Isrc -IC:\\ProgramData\\Anaconda3\\include -IC:\\ProgramData\\Anaconda3\\include \"-IC:\\Program Files (x86)\\Microsoft Visual Studio\\2019\\Community\\VC\\Tools\\MSVC\\14.29.30133\\include\" \"-IC:\\Program Files (x86)\\Windows Kits\\NETFXSDK\\4.8\\include\\um\" \"-IC:\\Program Files (x86)\\Windows Kits\\10\\include\\10.0.19041.0\\ucrt\" \"-IC:\\Program Files (x86)\\Windows Kits\\10\\include\\10.0.19041.0\\shared\" \"-IC:\\Program Files (x86)\\Windows Kits\\10\\include\\10.0.19041.0\\um\" \"-IC:\\Program Files (x86)\\Windows Kits\\10\\include\\10.0.19041.0\\winrt\" \"-IC:\\Program Files (x86)\\Windows Kits\\10\\include\\10.0.19041.0\\cppwinrt\" /Tcsrc/infinity.c /Fobuild\\temp.win-amd64-3.8\\Release\\src/infinity.obj\n",
      "  infinity.c\n",
      "  C:\\Program Files (x86)\\Microsoft Visual Studio\\2019\\Community\\VC\\Tools\\MSVC\\14.29.30133\\bin\\HostX86\\x64\\cl.exe /c /nologo /Ox /W3 /GL /DNDEBUG /MD -Isrc -IC:\\ProgramData\\Anaconda3\\include -IC:\\ProgramData\\Anaconda3\\include \"-IC:\\Program Files (x86)\\Microsoft Visual Studio\\2019\\Community\\VC\\Tools\\MSVC\\14.29.30133\\include\" \"-IC:\\Program Files (x86)\\Windows Kits\\NETFXSDK\\4.8\\include\\um\" \"-IC:\\Program Files (x86)\\Windows Kits\\10\\include\\10.0.19041.0\\ucrt\" \"-IC:\\Program Files (x86)\\Windows Kits\\10\\include\\10.0.19041.0\\shared\" \"-IC:\\Program Files (x86)\\Windows Kits\\10\\include\\10.0.19041.0\\um\" \"-IC:\\Program Files (x86)\\Windows Kits\\10\\include\\10.0.19041.0\\winrt\" \"-IC:\\Program Files (x86)\\Windows Kits\\10\\include\\10.0.19041.0\\cppwinrt\" /Tcsrc/segment.c /Fobuild\\temp.win-amd64-3.8\\Release\\src/segment.obj\n",
      "  segment.c\n",
      "  C:\\Program Files (x86)\\Microsoft Visual Studio\\2019\\Community\\VC\\Tools\\MSVC\\14.29.30133\\bin\\HostX86\\x64\\cl.exe /c /nologo /Ox /W3 /GL /DNDEBUG /MD -Isrc -IC:\\ProgramData\\Anaconda3\\include -IC:\\ProgramData\\Anaconda3\\include \"-IC:\\Program Files (x86)\\Microsoft Visual Studio\\2019\\Community\\VC\\Tools\\MSVC\\14.29.30133\\include\" \"-IC:\\Program Files (x86)\\Windows Kits\\NETFXSDK\\4.8\\include\\um\" \"-IC:\\Program Files (x86)\\Windows Kits\\10\\include\\10.0.19041.0\\ucrt\" \"-IC:\\Program Files (x86)\\Windows Kits\\10\\include\\10.0.19041.0\\shared\" \"-IC:\\Program Files (x86)\\Windows Kits\\10\\include\\10.0.19041.0\\um\" \"-IC:\\Program Files (x86)\\Windows Kits\\10\\include\\10.0.19041.0\\winrt\" \"-IC:\\Program Files (x86)\\Windows Kits\\10\\include\\10.0.19041.0\\cppwinrt\" /Tcsrc/segmentlist.c /Fobuild\\temp.win-amd64-3.8\\Release\\src/segmentlist.obj\n",
      "  segmentlist.c\n",
      "  src/segmentlist.c(199): error C2059: erro de sintaxe: '<parameter-list>'\n",
      "  src/segmentlist.c(218): error C2059: erro de sintaxe: '<parameter-list>'\n",
      "  src/segmentlist.c(386): warning C4244: 'fun‡Æo': conversÆo de 'Py_ssize_t' para 'long', poss¡vel perda de dados\n",
      "  src/segmentlist.c(647): warning C4244: 'return': conversÆo de 'Py_ssize_t' para 'int', poss¡vel perda de dados\n",
      "  src/segmentlist.c(655): warning C4244: 'return': conversÆo de 'Py_ssize_t' para 'int', poss¡vel perda de dados\n",
      "  src/segmentlist.c(665): warning C4244: 'return': conversÆo de 'Py_ssize_t' para 'int', poss¡vel perda de dados\n",
      "  src/segmentlist.c(676): warning C4244: 'return': conversÆo de 'Py_ssize_t' para 'int', poss¡vel perda de dados\n",
      "  error: command 'C:\\\\Program Files (x86)\\\\Microsoft Visual Studio\\\\2019\\\\Community\\\\VC\\\\Tools\\\\MSVC\\\\14.29.30133\\\\bin\\\\HostX86\\\\x64\\\\cl.exe' failed with exit status 2\n",
      "  ----------------------------------------\n",
      "  ERROR: Failed building wheel for ligo-segments\n",
      "    ERROR: Command errored out with exit status 1:\n",
      "     command: 'C:\\ProgramData\\Anaconda3\\python.exe' -u -c 'import sys, setuptools, tokenize; sys.argv[0] = '\"'\"'C:\\\\Users\\\\omena\\\\AppData\\\\Local\\\\Temp\\\\pip-install-xroc_clx\\\\ligo-segments_4cad3ade1ba9496ea6b5db2ed6ccb815\\\\setup.py'\"'\"'; __file__='\"'\"'C:\\\\Users\\\\omena\\\\AppData\\\\Local\\\\Temp\\\\pip-install-xroc_clx\\\\ligo-segments_4cad3ade1ba9496ea6b5db2ed6ccb815\\\\setup.py'\"'\"';f=getattr(tokenize, '\"'\"'open'\"'\"', open)(__file__);code=f.read().replace('\"'\"'\\r\\n'\"'\"', '\"'\"'\\n'\"'\"');f.close();exec(compile(code, __file__, '\"'\"'exec'\"'\"'))' install --record 'C:\\Users\\omena\\AppData\\Local\\Temp\\pip-record-k4huc8ws\\install-record.txt' --single-version-externally-managed --compile --install-headers 'C:\\ProgramData\\Anaconda3\\Include\\ligo-segments'\n",
      "         cwd: C:\\Users\\omena\\AppData\\Local\\Temp\\pip-install-xroc_clx\\ligo-segments_4cad3ade1ba9496ea6b5db2ed6ccb815\\\n",
      "    Complete output (31 lines):\n",
      "    running install\n",
      "    running build\n",
      "    running build_py\n",
      "    creating build\n",
      "    creating build\\lib.win-amd64-3.8\n",
      "    creating build\\lib.win-amd64-3.8\\ligo\n",
      "    copying ligo\\__init__.py -> build\\lib.win-amd64-3.8\\ligo\n",
      "    creating build\\lib.win-amd64-3.8\\ligo\\segments\n",
      "    copying ligo\\segments\\utils.py -> build\\lib.win-amd64-3.8\\ligo\\segments\n",
      "    copying ligo\\segments\\__init__.py -> build\\lib.win-amd64-3.8\\ligo\\segments\n",
      "    running build_ext\n",
      "    building 'ligo.segments.__segments' extension\n",
      "    creating build\\temp.win-amd64-3.8\n",
      "    creating build\\temp.win-amd64-3.8\\Release\n",
      "    creating build\\temp.win-amd64-3.8\\Release\\src\n",
      "    C:\\Program Files (x86)\\Microsoft Visual Studio\\2019\\Community\\VC\\Tools\\MSVC\\14.29.30133\\bin\\HostX86\\x64\\cl.exe /c /nologo /Ox /W3 /GL /DNDEBUG /MD -Isrc -IC:\\ProgramData\\Anaconda3\\include -IC:\\ProgramData\\Anaconda3\\include \"-IC:\\Program Files (x86)\\Microsoft Visual Studio\\2019\\Community\\VC\\Tools\\MSVC\\14.29.30133\\include\" \"-IC:\\Program Files (x86)\\Windows Kits\\NETFXSDK\\4.8\\include\\um\" \"-IC:\\Program Files (x86)\\Windows Kits\\10\\include\\10.0.19041.0\\ucrt\" \"-IC:\\Program Files (x86)\\Windows Kits\\10\\include\\10.0.19041.0\\shared\" \"-IC:\\Program Files (x86)\\Windows Kits\\10\\include\\10.0.19041.0\\um\" \"-IC:\\Program Files (x86)\\Windows Kits\\10\\include\\10.0.19041.0\\winrt\" \"-IC:\\Program Files (x86)\\Windows Kits\\10\\include\\10.0.19041.0\\cppwinrt\" /Tcsrc/segments.c /Fobuild\\temp.win-amd64-3.8\\Release\\src/segments.obj\n",
      "    segments.c\n",
      "    C:\\Program Files (x86)\\Microsoft Visual Studio\\2019\\Community\\VC\\Tools\\MSVC\\14.29.30133\\bin\\HostX86\\x64\\cl.exe /c /nologo /Ox /W3 /GL /DNDEBUG /MD -Isrc -IC:\\ProgramData\\Anaconda3\\include -IC:\\ProgramData\\Anaconda3\\include \"-IC:\\Program Files (x86)\\Microsoft Visual Studio\\2019\\Community\\VC\\Tools\\MSVC\\14.29.30133\\include\" \"-IC:\\Program Files (x86)\\Windows Kits\\NETFXSDK\\4.8\\include\\um\" \"-IC:\\Program Files (x86)\\Windows Kits\\10\\include\\10.0.19041.0\\ucrt\" \"-IC:\\Program Files (x86)\\Windows Kits\\10\\include\\10.0.19041.0\\shared\" \"-IC:\\Program Files (x86)\\Windows Kits\\10\\include\\10.0.19041.0\\um\" \"-IC:\\Program Files (x86)\\Windows Kits\\10\\include\\10.0.19041.0\\winrt\" \"-IC:\\Program Files (x86)\\Windows Kits\\10\\include\\10.0.19041.0\\cppwinrt\" /Tcsrc/infinity.c /Fobuild\\temp.win-amd64-3.8\\Release\\src/infinity.obj\n",
      "    infinity.c\n",
      "    C:\\Program Files (x86)\\Microsoft Visual Studio\\2019\\Community\\VC\\Tools\\MSVC\\14.29.30133\\bin\\HostX86\\x64\\cl.exe /c /nologo /Ox /W3 /GL /DNDEBUG /MD -Isrc -IC:\\ProgramData\\Anaconda3\\include -IC:\\ProgramData\\Anaconda3\\include \"-IC:\\Program Files (x86)\\Microsoft Visual Studio\\2019\\Community\\VC\\Tools\\MSVC\\14.29.30133\\include\" \"-IC:\\Program Files (x86)\\Windows Kits\\NETFXSDK\\4.8\\include\\um\" \"-IC:\\Program Files (x86)\\Windows Kits\\10\\include\\10.0.19041.0\\ucrt\" \"-IC:\\Program Files (x86)\\Windows Kits\\10\\include\\10.0.19041.0\\shared\" \"-IC:\\Program Files (x86)\\Windows Kits\\10\\include\\10.0.19041.0\\um\" \"-IC:\\Program Files (x86)\\Windows Kits\\10\\include\\10.0.19041.0\\winrt\" \"-IC:\\Program Files (x86)\\Windows Kits\\10\\include\\10.0.19041.0\\cppwinrt\" /Tcsrc/segment.c /Fobuild\\temp.win-amd64-3.8\\Release\\src/segment.obj\n",
      "    segment.c\n",
      "    C:\\Program Files (x86)\\Microsoft Visual Studio\\2019\\Community\\VC\\Tools\\MSVC\\14.29.30133\\bin\\HostX86\\x64\\cl.exe /c /nologo /Ox /W3 /GL /DNDEBUG /MD -Isrc -IC:\\ProgramData\\Anaconda3\\include -IC:\\ProgramData\\Anaconda3\\include \"-IC:\\Program Files (x86)\\Microsoft Visual Studio\\2019\\Community\\VC\\Tools\\MSVC\\14.29.30133\\include\" \"-IC:\\Program Files (x86)\\Windows Kits\\NETFXSDK\\4.8\\include\\um\" \"-IC:\\Program Files (x86)\\Windows Kits\\10\\include\\10.0.19041.0\\ucrt\" \"-IC:\\Program Files (x86)\\Windows Kits\\10\\include\\10.0.19041.0\\shared\" \"-IC:\\Program Files (x86)\\Windows Kits\\10\\include\\10.0.19041.0\\um\" \"-IC:\\Program Files (x86)\\Windows Kits\\10\\include\\10.0.19041.0\\winrt\" \"-IC:\\Program Files (x86)\\Windows Kits\\10\\include\\10.0.19041.0\\cppwinrt\" /Tcsrc/segmentlist.c /Fobuild\\temp.win-amd64-3.8\\Release\\src/segmentlist.obj\n",
      "    segmentlist.c\n",
      "    src/segmentlist.c(199): error C2059: erro de sintaxe: '<parameter-list>'\n",
      "    src/segmentlist.c(218): error C2059: erro de sintaxe: '<parameter-list>'\n",
      "    src/segmentlist.c(386): warning C4244: 'fun‡Æo': conversÆo de 'Py_ssize_t' para 'long', poss¡vel perda de dados\n",
      "    src/segmentlist.c(647): warning C4244: 'return': conversÆo de 'Py_ssize_t' para 'int', poss¡vel perda de dados\n",
      "    src/segmentlist.c(655): warning C4244: 'return': conversÆo de 'Py_ssize_t' para 'int', poss¡vel perda de dados\n",
      "    src/segmentlist.c(665): warning C4244: 'return': conversÆo de 'Py_ssize_t' para 'int', poss¡vel perda de dados\n",
      "    src/segmentlist.c(676): warning C4244: 'return': conversÆo de 'Py_ssize_t' para 'int', poss¡vel perda de dados\n",
      "    error: command 'C:\\\\Program Files (x86)\\\\Microsoft Visual Studio\\\\2019\\\\Community\\\\VC\\\\Tools\\\\MSVC\\\\14.29.30133\\\\bin\\\\HostX86\\\\x64\\\\cl.exe' failed with exit status 2\n",
      "    ----------------------------------------\n",
      "ERROR: Command errored out with exit status 1: 'C:\\ProgramData\\Anaconda3\\python.exe' -u -c 'import sys, setuptools, tokenize; sys.argv[0] = '\"'\"'C:\\\\Users\\\\omena\\\\AppData\\\\Local\\\\Temp\\\\pip-install-xroc_clx\\\\ligo-segments_4cad3ade1ba9496ea6b5db2ed6ccb815\\\\setup.py'\"'\"'; __file__='\"'\"'C:\\\\Users\\\\omena\\\\AppData\\\\Local\\\\Temp\\\\pip-install-xroc_clx\\\\ligo-segments_4cad3ade1ba9496ea6b5db2ed6ccb815\\\\setup.py'\"'\"';f=getattr(tokenize, '\"'\"'open'\"'\"', open)(__file__);code=f.read().replace('\"'\"'\\r\\n'\"'\"', '\"'\"'\\n'\"'\"');f.close();exec(compile(code, __file__, '\"'\"'exec'\"'\"'))' install --record 'C:\\Users\\omena\\AppData\\Local\\Temp\\pip-record-k4huc8ws\\install-record.txt' --single-version-externally-managed --compile --install-headers 'C:\\ProgramData\\Anaconda3\\Include\\ligo-segments' Check the logs for full command output.\n"
     ]
    },
    {
     "name": "stdout",
     "output_type": "stream",
     "text": [
      "    Running setup.py install for ligo-segments: started\n",
      "    Running setup.py install for ligo-segments: finished with status 'error'\n"
     ]
    }
   ],
   "source": [
    "# -- Uncomment following line if running in Google Colab\n",
    "! pip install gwpy"
   ]
  },
  {
   "cell_type": "markdown",
   "metadata": {
    "Collapsed": "false",
    "id": "KSHN5q5MvvW3"
   },
   "source": [
    "**Important:** With Google Colab, you may need to restart the runtime after running the cell above."
   ]
  },
  {
   "cell_type": "markdown",
   "metadata": {
    "Collapsed": "false",
    "id": "QnyfjBa2vvW4"
   },
   "source": [
    "## Initialization"
   ]
  },
  {
   "cell_type": "code",
   "execution_count": 1,
   "metadata": {
    "Collapsed": "false",
    "id": "jIaR3vWavvW5"
   },
   "outputs": [
    {
     "ename": "ModuleNotFoundError",
     "evalue": "No module named 'gwpy'",
     "output_type": "error",
     "traceback": [
      "\u001b[1;31m---------------------------------------------------------------------------\u001b[0m",
      "\u001b[1;31mModuleNotFoundError\u001b[0m                       Traceback (most recent call last)",
      "\u001b[1;32m<ipython-input-1-2c0bf82057fb>\u001b[0m in \u001b[0;36m<module>\u001b[1;34m\u001b[0m\n\u001b[1;32m----> 1\u001b[1;33m \u001b[1;32mimport\u001b[0m \u001b[0mgwpy\u001b[0m\u001b[1;33m\u001b[0m\u001b[1;33m\u001b[0m\u001b[0m\n\u001b[0m\u001b[0;32m      2\u001b[0m \u001b[0mprint\u001b[0m\u001b[1;33m(\u001b[0m\u001b[0mgwpy\u001b[0m\u001b[1;33m.\u001b[0m\u001b[0m__version__\u001b[0m\u001b[1;33m)\u001b[0m\u001b[1;33m\u001b[0m\u001b[1;33m\u001b[0m\u001b[0m\n",
      "\u001b[1;31mModuleNotFoundError\u001b[0m: No module named 'gwpy'"
     ]
    }
   ],
   "source": [
    "import gwpy\n",
    "print(gwpy.__version__)"
   ]
  },
  {
   "cell_type": "markdown",
   "metadata": {
    "Collapsed": "false",
    "id": "kQ2BP99lvvW-"
   },
   "source": [
    "## A note on object-oriented programming\n",
    "\n",
    "Before we dive too deeply, it's worth a quick aside on object-oriented programming (OOP).\n",
    "[GWpy](https://gwpy.github.io/docs/stable/index.html) is heavily object-oriented, meaning almost all of the code you run using GWpy is based around an object of some type, e.g. `TimeSeries`.\n",
    "Most of the methods (functions) we will use are attached to an object, rather than standing alone, meaning you should have a pretty good idea of what sort of data you are dealing with (without having to read the documentation!).\n",
    "\n",
    "For a quick overview of object-oriented programming in Python, see [this blog post by Jeff Knupp](https://jeffknupp.com/blog/2014/06/18/improve-your-python-python-classes-and-object-oriented-programming/)."
   ]
  },
  {
   "cell_type": "markdown",
   "metadata": {
    "Collapsed": "false",
    "id": "nDrXzJsNvvXA"
   },
   "source": [
    "## Handling data in the time domain"
   ]
  },
  {
   "cell_type": "markdown",
   "metadata": {
    "Collapsed": "false",
    "id": "rphj1bJKvvXB"
   },
   "source": [
    "#### Finding open data\n",
    "\n",
    "We have seen already that the `gwosc` module can be used to query for what data are available on [GWOSC](https://www.gw-openscience.org/data/).\n",
    "The next thing to do is to actually read some open data. Let's try to get some for GW190412, the first detection of a gravitational-wave signal from an unequal-mass BBH (binary black hole system).\n",
    "\n",
    "We can use the [`TimeSeries.fetch_open_data`](https://gwpy.github.io/docs/stable/api/gwpy.timeseries.TimeSeries.html#gwpy.timeseries.TimeSeries.fetch_open_data) method to download data directly from https://www.gw-openscience.org, but we need to know the GPS times.\n",
    "We can query for the GPS time of an event as follows:"
   ]
  },
  {
   "cell_type": "code",
   "execution_count": null,
   "metadata": {
    "Collapsed": "false",
    "id": "lPUz-bGEvvXD"
   },
   "outputs": [],
   "source": [
    "from gwosc.datasets import event_gps\n",
    "gps = event_gps('GW190412')\n",
    "print(gps)"
   ]
  },
  {
   "cell_type": "markdown",
   "metadata": {
    "Collapsed": "false",
    "id": "65mRiIVbvvXH"
   },
   "source": [
    "Now we can build a `[start, end)` GPS segment to 10 seconds around this time, using integers for convenience:"
   ]
  },
  {
   "cell_type": "code",
   "execution_count": null,
   "metadata": {
    "Collapsed": "false",
    "id": "jNO-gRsivvXJ"
   },
   "outputs": [],
   "source": [
    "segment = (int(gps)-5, int(gps)+5)\n",
    "print(segment)"
   ]
  },
  {
   "cell_type": "markdown",
   "metadata": {
    "Collapsed": "false",
    "id": "erm3jptAvvXO"
   },
   "source": [
    "and can now query for the full data.\n",
    "For this example we choose to retrieve data for the LIGO-Livingston interferometer, using the identifier `'L1'`.\n",
    "We could have chosen any of\n",
    "\n",
    "- `'G1`' - GEO600\n",
    "- `'H1'` - LIGO-Hanford\n",
    "- `'L1'` - LIGO-Livingston\n",
    "- `'V1'` - (Advanced) Virgo\n",
    "\n",
    "In the future, the Japanese observatory KAGRA will come online, with the identifier `'K1'`."
   ]
  },
  {
   "cell_type": "code",
   "execution_count": null,
   "metadata": {
    "Collapsed": "false",
    "id": "KNyXDc6GvvXP"
   },
   "outputs": [],
   "source": [
    "from gwpy.timeseries import TimeSeries\n",
    "ldata = TimeSeries.fetch_open_data('L1', *segment, verbose=True)\n",
    "print(ldata)"
   ]
  },
  {
   "cell_type": "markdown",
   "metadata": {
    "Collapsed": "false",
    "id": "HaAG221avvXV"
   },
   "source": [
    "##### The `verbose=True` flag lets us see that GWpy has discovered one file that provides the data for the given interval, downloaded it, and loaded the data.\n",
    "The files are not stored permanently, so next time you do the same call, it will be downloaded again, however, if you know you might repeat the same call many times, you can use `cache=True` to store the file on your computer.\n",
    "\n",
    "Notes: \n",
    "\n",
    "* To control the dataset from which your data come from you can use the 'dataset' keyword. It is recommended to use data from a run if they are available, because they contain the most updated version of the calibration. To check which was the run at the time you want to query, it is enough to use the find_datasets method of the package gwosc discussed in the previous tutorial, specifying (type='run',segment=segment). For example, for the segment we are using in this tutorial, the two available datasets are ['O3a_16KHZ_R1', 'O3a_4KHZ_R1']. For the sampling at 4 kHz, the complete command to get data from this dataset is then: _TimeSeries.fetch_open_data('L1', *segment, verbose=True, dataset='O3a_4KHZ_R1')_  \n",
    "\n",
    "* To read data from a local file instead of from the GWOSC server, we can use [`TimeSeries.read`](https://gwpy.github.io/docs/stable/api/gwpy.timeseries.TimeSeries.html#gwpy.timeseries.TimeSeries.read) method.\n",
    "\n",
    "We have now downloaded real LIGO data for GW190412! These are the actual data used in the analysis that discovered the first binary black hole merger."
   ]
  },
  {
   "cell_type": "markdown",
   "metadata": {
    "Collapsed": "false",
    "id": "20R_MEXlvvXW"
   },
   "source": [
    "To sanity check things, we can easily make a plot, using the [`plot()`](https://gwpy.github.io/docs/stable/timeseries/plot.html) method of the `data` `TimeSeries`."
   ]
  },
  {
   "cell_type": "markdown",
   "metadata": {
    "Collapsed": "false",
    "id": "qpYocnKovvXY"
   },
   "source": [
    "<div class=\"alert alert-info\">\n",
    "Since this is the first time we are plotting something in this notebook, we need to configure `matplotlib` (the plotting library) to work within the notebook properly:\n",
    "</div>"
   ]
  },
  {
   "cell_type": "markdown",
   "metadata": {
    "Collapsed": "false",
    "id": "2Z6dwPzr2VJW"
   },
   "source": [
    "Matplotlib documentation can be found [`here`](https://matplotlib.org/contents.html)."
   ]
  },
  {
   "cell_type": "code",
   "execution_count": null,
   "metadata": {
    "Collapsed": "false",
    "id": "BALbycwJvvXa"
   },
   "outputs": [],
   "source": [
    "%matplotlib inline\n",
    "plot = ldata.plot()"
   ]
  },
  {
   "cell_type": "markdown",
   "metadata": {
    "Collapsed": "false",
    "id": "1irX8-UnvvXd"
   },
   "source": [
    "Notes: There are alternative ways to access the GWOSC data. \n",
    "\n",
    "* [`readligo`](https://losc.ligo.org/s/sample_code/readligo.py) is a light-weight Python module that returns the time series into a Numpy array.\n",
    "* The [PyCBC](http://github.com/ligo-cbc/pycbc) package has the `pycbc.frame.query_and_read_frame` and `pycbc.frame.read_frame` methods. We use [PyCBC](http://github.com/ligo-cbc/pycbc) in Tutorial 2.1, 2.2 and 2.3. "
   ]
  },
  {
   "cell_type": "markdown",
   "metadata": {
    "Collapsed": "false",
    "id": "TKRQ5EIivvXg"
   },
   "source": [
    "## Handling data in the frequency domain using the Fourier transform\n",
    "\n",
    "The [Fourier transform](https://en.wikipedia.org/wiki/Fourier_transform) is a widely-used mathematical tool to expose the frequency-domain content of a time-domain signal, meaning we can see which frequencies contain lots of power, and which have less.\n",
    "\n",
    "We can calculate the Fourier transform of our `TimeSeries` using the [`fft()`](https://gwpy.github.io/docs/stable/api/gwpy.timeseries.TimeSeries.html#gwpy.timeseries.TimeSeries.fft) method:"
   ]
  },
  {
   "cell_type": "code",
   "execution_count": null,
   "metadata": {
    "Collapsed": "false",
    "id": "TUZ5NAA4vvXh"
   },
   "outputs": [],
   "source": [
    "fft = ldata.fft()\n",
    "print(fft)"
   ]
  },
  {
   "cell_type": "markdown",
   "metadata": {
    "Collapsed": "false",
    "id": "O-Y_RfuJvvXn"
   },
   "source": [
    "The result is a [`FrequencySeries`](https://gwpy.github.io/docs/stable/frequencyseries/), with complex amplitude, representing the amplitude and phase of each frequency in our data.\n",
    "We can use `abs()` to extract the amplitude and plot that:"
   ]
  },
  {
   "cell_type": "code",
   "execution_count": null,
   "metadata": {
    "Collapsed": "false",
    "id": "3nkJpEWsvvXo"
   },
   "outputs": [],
   "source": [
    "plot = fft.abs().plot(xscale=\"log\", yscale=\"log\")\n",
    "plot.show(warn=False)"
   ]
  },
  {
   "cell_type": "markdown",
   "metadata": {
    "Collapsed": "false",
    "id": "Jagnf6gXvvXr"
   },
   "source": [
    "This doesn't look correct at all!\n",
    "The problem is that the FFT works under the assumption that our data are periodic, which means that the edges of our data look like discontinuities when transformed.\n",
    "We need to apply a window function to our time-domain data before transforming, which we can do using the [`scipy.signal`](https://docs.scipy.org/doc/scipy/reference/signal.html) module:"
   ]
  },
  {
   "cell_type": "code",
   "execution_count": null,
   "metadata": {
    "Collapsed": "false",
    "id": "QStxzaxivvXs"
   },
   "outputs": [],
   "source": [
    "from scipy.signal import get_window\n",
    "window = get_window('hann', ldata.size)\n",
    "lwin = ldata * window"
   ]
  },
  {
   "cell_type": "markdown",
   "metadata": {
    "Collapsed": "false",
    "id": "-CE93sCevvXw"
   },
   "source": [
    "Let's try our transform again and see what we get"
   ]
  },
  {
   "cell_type": "code",
   "execution_count": null,
   "metadata": {
    "Collapsed": "false",
    "id": "iIpCU4F_vvXx"
   },
   "outputs": [],
   "source": [
    "fftamp = lwin.fft().abs()\n",
    "plot = fftamp.plot(xscale=\"log\", yscale=\"log\")\n",
    "plot.show(warn=False)"
   ]
  },
  {
   "cell_type": "markdown",
   "metadata": {
    "Collapsed": "false",
    "id": "LN-j1qNovvXz"
   },
   "source": [
    "This looks a little more like what we expect for the amplitude spectral density of a gravitational-wave detector."
   ]
  },
  {
   "cell_type": "markdown",
   "metadata": {
    "Collapsed": "false",
    "id": "MkznZBKhvvX0"
   },
   "source": [
    "## Calculating the power spectral density\n",
    "\n",
    "In practice, we typically use a large number of FFTs to estimate an average power spectral density over a long period of data.\n",
    "We can do this using the [`asd()`](https://gwpy.github.io/docs/stable/api/gwpy.timeseries.TimeSeries.html#gwpy.timeseries.TimeSeries.asd) method, which uses [Welch's method](https://en.wikipedia.org/wiki/Welch%27s_method) to combine FFTs of overlapping, windowed chunks of data."
   ]
  },
  {
   "cell_type": "code",
   "execution_count": null,
   "metadata": {
    "Collapsed": "false",
    "id": "n8Vs3we5vvX1"
   },
   "outputs": [],
   "source": [
    "asd = ldata.asd(fftlength=4, method=\"median\")\n",
    "plot = asd.plot()\n",
    "plot.show(warn=False)"
   ]
  },
  {
   "cell_type": "code",
   "execution_count": null,
   "metadata": {
    "Collapsed": "false",
    "id": "oNCOIFixvvX4"
   },
   "outputs": [],
   "source": [
    "ax = plot.gca()\n",
    "ax.set_xlim(10, 1400)\n",
    "ax.set_ylim(1e-24, 1e-20)\n",
    "plot"
   ]
  },
  {
   "cell_type": "markdown",
   "metadata": {
    "Collapsed": "false",
    "id": "OF0k2n-nvvX7"
   },
   "source": [
    "The ASD is a standard tool used to study the frequency-domain sensitivity of a gravitational-wave detector.\n",
    "For the LIGO-Livingston data we loaded, we can see large spikes at certain frequencies, including\n",
    "\n",
    "- ~300 Hz\n",
    "- ~500 Hz\n",
    "- ~1000 Hz\n",
    "\n",
    "The [O2 spectral lines](https://www.gw-openscience.org/o2speclines/) page on GWOSC describes a number of these spectral features for O2, with some of them being forced upon us, and some being deliberately introduced to help with interferometer control.\n",
    "\n",
    "Loading more data allows for more FFTs to be averaged during the ASD calculation, meaning random variations get averaged out, and we can see more detail:"
   ]
  },
  {
   "cell_type": "code",
   "execution_count": null,
   "metadata": {
    "Collapsed": "false",
    "id": "wHyyXa4DvvX7"
   },
   "outputs": [],
   "source": [
    "ldata2 = TimeSeries.fetch_open_data('L1', int(gps)-512, int(gps)+512, cache=True)\n",
    "lasd2 = ldata2.asd(fftlength=4, method=\"median\")\n",
    "plot = lasd2.plot()\n",
    "ax = plot.gca()\n",
    "ax.set_xlim(10, 1400)\n",
    "ax.set_ylim(1e-24, 1e-20)\n",
    "plot.show(warn=False)"
   ]
  },
  {
   "cell_type": "markdown",
   "metadata": {
    "Collapsed": "false",
    "id": "XehA6HMUvvX-"
   },
   "source": [
    "Now we can see some more features, including sets of lines around ~30 Hz and ~65 Hz, and some more isolated lines through the more sensitive region.\n",
    "\n",
    "For comparison, we can load the LIGO-Hanford data and plot that as well:"
   ]
  },
  {
   "cell_type": "code",
   "execution_count": null,
   "metadata": {
    "Collapsed": "false",
    "id": "wyZdgIAfvvX_",
    "scrolled": true,
    "tags": []
   },
   "outputs": [],
   "source": [
    "# get Hanford data\n",
    "hdata2 = TimeSeries.fetch_open_data('H1', int(gps)-512, int(gps)+512, cache=True)\n",
    "hasd2 = hdata2.asd(fftlength=4, method=\"median\")\n",
    "\n",
    "# get Virgo data\n",
    "vdata2 = TimeSeries.fetch_open_data('V1', int(gps)-512, int(gps)+512, cache=True)\n",
    "vasd2 = vdata2.asd(fftlength=4, method=\"median\")\n",
    "\n",
    "# and plot using standard colours\n",
    "ax.plot(hasd2, label='LIGO-Hanford', color='gwpy:ligo-hanford')\n",
    "ax.plot(vasd2, label='Virgo', color='gwpy:virgo')\n",
    "\n",
    "# update the Livingston line to use standard colour, and have a label\n",
    "lline = ax.lines[0]\n",
    "lline.set_color('gwpy:ligo-livingston')  # change colour of Livingston data\n",
    "lline.set_label('LIGO-Livingston')\n",
    "\n",
    "ax.set_ylabel(r'Strain noise [$1/\\sqrt{\\mathrm{Hz}}$]')\n",
    "ax.legend()\n",
    "plot"
   ]
  },
  {
   "cell_type": "markdown",
   "metadata": {
    "Collapsed": "false",
    "id": "vQ5Yr15FvvYB"
   },
   "source": [
    "Now we can see clearly the relative sensitivity of each LIGO instrument, the common features between both, and those unique to each observatory."
   ]
  },
  {
   "cell_type": "markdown",
   "metadata": {
    "Collapsed": "false",
    "id": "ARjui2NF2VJb"
   },
   "source": [
    "# Challenges:"
   ]
  },
  {
   "cell_type": "markdown",
   "metadata": {
    "Collapsed": "false",
    "id": "9s63fjSWvvXe"
   },
   "source": [
    "##### Quiz Question 1:\n",
    "\n",
    "The peak amplitude in the LIGO-Livingston data occurs at approximately 5 seconds into the plot above and is undetectable above the background noise by the eye. Plot the data for the LIGO-Hanford detector around GW190412. Looking at your new LIGO-Handford plot, can your eye identify a signal peak? "
   ]
  },
  {
   "cell_type": "code",
   "execution_count": null,
   "metadata": {
    "Collapsed": "false",
    "id": "e_CLCTuR2VJb"
   },
   "outputs": [],
   "source": []
  },
  {
   "cell_type": "markdown",
   "metadata": {
    "Collapsed": "false",
    "id": "bsxhdshp2VJb"
   },
   "source": [
    "# Quiz Question 2 :\n",
    "\n",
    "Make an ASD around the time of an O1 event, GW150914 for L1 detector.  Compare this with the ASDs around GW190412 for L1 detector.  Which data have lower noise - and so are more sensitive - around 100 Hz?\n"
   ]
  },
  {
   "cell_type": "code",
   "execution_count": null,
   "metadata": {
    "Collapsed": "false",
    "id": "8yWVcrob2VJc"
   },
   "outputs": [],
   "source": []
  }
 ],
 "metadata": {
  "colab": {
   "name": "Tuto 1.2 Open Data access with GWpy.ipynb",
   "provenance": []
  },
  "kernelspec": {
   "display_name": "Python 3",
   "language": "python",
   "name": "python3"
  },
  "language_info": {
   "codemirror_mode": {
    "name": "ipython",
    "version": 3
   },
   "file_extension": ".py",
   "mimetype": "text/x-python",
   "name": "python",
   "nbconvert_exporter": "python",
   "pygments_lexer": "ipython3",
   "version": "3.8.8"
  }
 },
 "nbformat": 4,
 "nbformat_minor": 1
}
