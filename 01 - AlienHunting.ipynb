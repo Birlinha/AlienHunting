{
  "nbformat": 4,
  "nbformat_minor": 0,
  "metadata": {
    "colab": {
      "name": "AlienHunting.ipynb",
      "provenance": [],
      "collapsed_sections": [],
      "authorship_tag": "ABX9TyOCgJflXhhMMf3NPktuKtD1",
      "include_colab_link": true
    },
    "kernelspec": {
      "name": "python3",
      "display_name": "Python 3"
    },
    "language_info": {
      "name": "python"
    }
  },
  "cells": [
    {
      "cell_type": "markdown",
      "metadata": {
        "id": "view-in-github",
        "colab_type": "text"
      },
      "source": [
        "<a href=\"https://colab.research.google.com/github/Birlinha/AlienHunting/blob/main/AlienHunting.ipynb\" target=\"_parent\"><img src=\"https://colab.research.google.com/assets/colab-badge.svg\" alt=\"Open In Colab\"/></a>"
      ]
    },
    {
      "cell_type": "markdown",
      "source": [
        "# 👽 Quem está pronto para um **Encontro Imediato** 🛸?\n",
        "\n",
        "Hoje vamos analisar imagens de satélite, em busca de atividade alienígena\n",
        "\n",
        "Para realizar isso, antes precisamos entender um pouco sobre a Escala de Kardashev. Ela serve como régua para aferição do tamanho e influência de uma civilização sobre os planetas e galáxias em que habitam"
      ],
      "metadata": {
        "id": "9_gxhZV55rdH"
      }
    },
    {
      "cell_type": "code",
      "source": [
        "%%html\n",
        "<img src=\"https://danhairfield.files.wordpress.com/2014/05/paul.jpg\" style=\"width:100%;height:720px;      object-fit:cover;object-position:0 30%;\">"
      ],
      "metadata": {
        "colab": {
          "base_uri": "https://localhost:8080/",
          "height": 742
        },
        "id": "oZzbSGbI2yIQ",
        "outputId": "0c321604-8891-4c16-ca44-5da38dafb742"
      },
      "execution_count": null,
      "outputs": [
        {
          "output_type": "display_data",
          "data": {
            "text/plain": [
              "<IPython.core.display.HTML object>"
            ],
            "text/html": [
              "<img src=\"https://danhairfield.files.wordpress.com/2014/05/paul.jpg\" style=\"width:100%;height:720px;      object-fit:cover;object-position:0 30%;\">"
            ]
          },
          "metadata": {}
        }
      ]
    },
    {
      "cell_type": "code",
      "source": [
        "%%html\n",
        "<iframe width=\"560\" height=\"315\" src=\"https://www.youtube.com/embed/rhFK5_Nx9xY?clip=Ugkx_FClgV4g75KAxU45UusDWJHSqmQioj8D&amp;clipt=ELm6Cxjr-Q4\" title=\"YouTube video player\" frameborder=\"0\" allow=\"accelerometer; autoplay; clipboard-write; encrypted-media; gyroscope; picture-in-picture\" allowfullscreen></iframe>"
      ],
      "metadata": {
        "colab": {
          "base_uri": "https://localhost:8080/",
          "height": 337
        },
        "id": "a7RvevqY-Z9B",
        "outputId": "56987361-9ea3-4955-f13e-8ddf6a461e64"
      },
      "execution_count": null,
      "outputs": [
        {
          "output_type": "display_data",
          "data": {
            "text/plain": [
              "<IPython.core.display.HTML object>"
            ],
            "text/html": [
              "<iframe width=\"560\" height=\"315\" src=\"https://www.youtube.com/embed/rhFK5_Nx9xY?clip=Ugkx_FClgV4g75KAxU45UusDWJHSqmQioj8D&amp;clipt=ELm6Cxjr-Q4\" title=\"YouTube video player\" frameborder=\"0\" allow=\"accelerometer; autoplay; clipboard-write; encrypted-media; gyroscope; picture-in-picture\" allowfullscreen></iframe>"
            ]
          },
          "metadata": {}
        }
      ]
    },
    {
      "cell_type": "markdown",
      "source": [
        "Essa é a escala de classificação de civilizações (projetada com a intenção de identificar civilizações extra-terrestres):\n",
        "\n",
        "- TIPO 0 [🦠] - É capaz de utilizar toda a Enegia disponível em seu próprio organismo\n",
        "- TIPO 1 [🌎] - O organismo é capaz de utilizar toda a energia disponível no planeta em que vive\n",
        "- TIPO 2 [☀️] - Toda Energia disponível em seu sistema solar/estrela\n",
        "- TIPO 3 [🌌] - Energia de toda uma galáxia\n",
        "- TIPO 4 [⚛️] - E = mc², em múltiplas galáxias"
      ],
      "metadata": {
        "id": "NFs4XM8S7qHQ"
      }
    },
    {
      "cell_type": "markdown",
      "source": [
        "# Motivação\n",
        "\n",
        "Eu sempre fui uma criança nerd 🤓\n",
        "\n",
        "Eu costumava acordar bem cedinho aos sábados, para assistir Telecurso 2000. Era meu programa preferido!\n",
        "\n",
        "A primeira vez que usei um computador, foi um computador que meu pai trouxe do trabalho dele, que ele havia ganhado. Eu e meu irmão dividíamos o tempo que cada um podia usar o computador, e até olhávamos pras conexões de rede do computador pra ver se o tempo tinha acabado ou não kkkkk\n",
        "\n",
        "Mas desde os 10 anos, eu passei MUITO tempo em frente a uma telinha, com cores claras e letrinhas minúsculas, e isso abriu minha mente, e me viciou nesse relacionamento virtual. Eu ganhei um jogo, quando era pequena, chamava \"Spore™ Galactic Creatures\"\n",
        "\n",
        "Esse jogo é uma simplificação muito útil do processo evolutivo de organismos, sendo possível que **você, como jogador** passe por todas as gerações de uma espécie, desde o seu surgimento espontâneo no planeta e suas batalhas como micro-organismo, passando por uma evolução e metamorfose de seu formato físico e habilidades, e depois por uma evolução intelectual, civilizatória. Por fim, seu objetivo é simplesmente **DOMINAR A GALÁXIA**, protegendo-a dos **GROX** - Maléficas criaturas que se fundiram com interfaces de máquina para sobreviver"
      ],
      "metadata": {
        "id": "25Q0hp2gX1Hh"
      }
    },
    {
      "cell_type": "markdown",
      "source": [
        "![](https://pcgamesforsteam.com/wp-content/uploads/2019/03/Spore-stage-select-1024x561.jpg)\n",
        "\n",
        "Se você se interessou, esse aqui é um review mais detalhado do game: [clique aqui](https://pcgamesforsteam.com/spore-review)"
      ],
      "metadata": {
        "id": "S2hEebIWZ6-X"
      }
    },
    {
      "cell_type": "markdown",
      "source": [
        "# O que estamos procurando\n",
        "\n",
        "# T-4\n",
        "Em teoria, Civilizações T-4 (Type IV) em diante utilizariam tanta energia do universo, que poderíamos ver a atividade de suas \"super-máquinas\" através do estudo do tecido do espaço-tempo 🧬⌛ É impossível imaginar o que acontece aqui, ou como denominar essas entidades, mas suas super-máquinas provavelmente captariam energia de buracos negros\n",
        "\n",
        "Quem sabe, talvez elas tenham motivos para querer criar seus próprios buracos negros\n",
        "\n",
        "> 🎯 Estratégia para Detecção de Civilizações Tipo 4\n",
        ">\n",
        "> detecção de anomalias em sinais relacionados ao tecido do espaço-tempo.\n",
        ">\n",
        "> como no caso do estudo do Observatório de Ondas Gravitacionais por Interferômetro a Laser, onde foi construída uma super-estrutura de kilômetros de distância na esperança de detectar oscilações no tecido do espaço tempo\n",
        ">\n",
        "> Foram encontradas evidências significativas de uma distorção no espaço-tempo, cuja fonte foi determinada como sendo a reação da colisão entre dois buracos negros."
      ],
      "metadata": {
        "id": "vgyxMwOiAz0W"
      }
    },
    {
      "cell_type": "code",
      "source": [
        "%%html\n",
        "<iframe width=\"360\" height=\"200\" src=\"https://www.youtube.com/embed/I_88S8DWbcU\" frameborder=\"0\" allowfullscreen></iframe>"
      ],
      "metadata": {
        "colab": {
          "base_uri": "https://localhost:8080/",
          "height": 222
        },
        "id": "-N5XIsZ-66Z5",
        "outputId": "7cb5cc6b-f5c1-40ab-cafc-4fd785ed3fe2"
      },
      "execution_count": null,
      "outputs": [
        {
          "output_type": "display_data",
          "data": {
            "text/plain": [
              "<IPython.core.display.HTML object>"
            ],
            "text/html": [
              "<iframe width=\"360\" height=\"200\" src=\"https://www.youtube.com/embed/I_88S8DWbcU\" frameborder=\"0\" allowfullscreen></iframe>"
            ]
          },
          "metadata": {}
        }
      ]
    },
    {
      "cell_type": "markdown",
      "source": [
        "Essa é uma simulação da colisão dos buracos negros, modelada com base nos dados obtidos pelo estudo LIGO. Se houver uma civilização de Tipo IV em nossa galáxia, ou em galáxias próximas, eles provavelmente também viram este evento - e possivelmente estariam interessados em transformar essa energia gravitacional de alguma forma\n",
        "\n",
        "Supostamente, seria possível criar algum tipo de astroengenharia, ou super estrutura para transformar - ou utilizar essa energia (como surfar nas ondas gravitacionais, utilizando-as para mover estruturas)\n",
        "\n",
        "Algumas dessas super-estruturas possivelmente apareceriam em nossas leituras, ou poderiam ser identificadas através da análise de cada evento gravitacional, procurando por uma causa-raiz"
      ],
      "metadata": {
        "id": "QKE083cnUIta"
      }
    },
    {
      "cell_type": "markdown",
      "source": [
        "# Coding time"
      ],
      "metadata": {
        "id": "arSIh1iy_oLW"
      }
    },
    {
      "cell_type": "markdown",
      "source": [
        "## Pastas e Diretórios"
      ],
      "metadata": {
        "id": "bhc6gLSdHU8v"
      }
    },
    {
      "cell_type": "markdown",
      "source": [
        "Primeiro, vamos criar uma pasta no google Colab para guardar nossos dados"
      ],
      "metadata": {
        "id": "gsIUBf-0A6zJ"
      }
    },
    {
      "cell_type": "code",
      "source": [
        "def criar_pastas():\n",
        "  from os import path\n",
        "  from os import mkdir\n",
        "\n",
        "  if path.exists('./data') == False:\n",
        "    mkdir('./data')\n",
        "\n",
        "  return 'pastas foram criadas'"
      ],
      "metadata": {
        "id": "FppD49uNpFcD"
      },
      "execution_count": null,
      "outputs": []
    },
    {
      "cell_type": "code",
      "source": [
        "criar_pastas()"
      ],
      "metadata": {
        "colab": {
          "base_uri": "https://localhost:8080/",
          "height": 36
        },
        "id": "mzNBsqI9Ae66",
        "outputId": "61b72b59-5349-4d38-ad0d-92c6aaab3e11"
      },
      "execution_count": null,
      "outputs": [
        {
          "output_type": "execute_result",
          "data": {
            "text/plain": [
              "'pastas foram criadas'"
            ],
            "application/vnd.google.colaboratory.intrinsic+json": {
              "type": "string"
            }
          },
          "metadata": {},
          "execution_count": 68
        }
      ]
    },
    {
      "cell_type": "markdown",
      "source": [
        "## Data Load"
      ],
      "metadata": {
        "id": "xQUMweGdHZHP"
      }
    },
    {
      "cell_type": "markdown",
      "source": [
        "Agora vamos importar nosso csv diretamente do drive. anteriormente [baixado daqui](https://www.gw-openscience.org/eventapi/html/GWTC/)"
      ],
      "metadata": {
        "id": "6G71nL0JBGk0"
      }
    },
    {
      "cell_type": "code",
      "source": [
        "def import_file(google_drive_folder_id):\n",
        "  from os import path\n",
        "  from gdown import download\n",
        "\n",
        "  if path.exists('./data/LIGO.csv') == False:\n",
        "    download('https://drive.google.com/uc?id={}'.format(google_drive_folder_id),output=\"./data/LIGO.csv\", quiet=0)"
      ],
      "metadata": {
        "id": "uh6gOLJiA5BZ"
      },
      "execution_count": null,
      "outputs": []
    },
    {
      "cell_type": "code",
      "source": [
        "import_file('1_ACZvMZE3uu5V4Ib8tBrwCkPNr1zjTSw')"
      ],
      "metadata": {
        "colab": {
          "base_uri": "https://localhost:8080/"
        },
        "id": "s-fnXSccAl-K",
        "outputId": "868a59d3-1a99-40ce-864b-17dda02b2599"
      },
      "execution_count": null,
      "outputs": [
        {
          "output_type": "stream",
          "name": "stderr",
          "text": [
            "Downloading...\n",
            "From: https://drive.google.com/uc?id=1_ACZvMZE3uu5V4Ib8tBrwCkPNr1zjTSw\n",
            "To: /content/data/LIGO.csv\n",
            "100%|██████████| 29.8k/29.8k [00:00<00:00, 22.8MB/s]\n"
          ]
        }
      ]
    },
    {
      "cell_type": "markdown",
      "source": [
        "## Data Read"
      ],
      "metadata": {
        "id": "4Q42v9cfHQ4s"
      }
    },
    {
      "cell_type": "code",
      "source": [
        "def read_data():\n",
        "  import pandas as pd\n",
        "\n",
        "  df = pd.read_csv('./data/LIGO.csv')\n",
        "  return df"
      ],
      "metadata": {
        "id": "SflSIUtlCBcq"
      },
      "execution_count": null,
      "outputs": []
    },
    {
      "cell_type": "code",
      "source": [
        "df = read_data()"
      ],
      "metadata": {
        "id": "Zfj_BxD7E7El"
      },
      "execution_count": null,
      "outputs": []
    },
    {
      "cell_type": "code",
      "source": [
        "df.head()"
      ],
      "metadata": {
        "colab": {
          "base_uri": "https://localhost:8080/",
          "height": 386
        },
        "id": "eJvJMZtUFAkn",
        "outputId": "4922a1a6-4c6a-4d23-f041-4450a8a0cb8b"
      },
      "execution_count": null,
      "outputs": [
        {
          "output_type": "execute_result",
          "data": {
            "text/plain": [
              "            id commonName  version catalog.shortName           GPS  \\\n",
              "0  GW150914-v3   GW150914        3  GWTC-1-confident  1.126259e+09   \n",
              "1  GW151012-v3   GW151012        3  GWTC-1-confident  1.128679e+09   \n",
              "2  GW151226-v2   GW151226        2  GWTC-1-confident  1.135136e+09   \n",
              "3  GW170104-v2   GW170104        2  GWTC-1-confident  1.167560e+09   \n",
              "4  GW170608-v3   GW170608        3  GWTC-1-confident  1.180922e+09   \n",
              "\n",
              "                           reference  \\\n",
              "0  https://doi.org/10.7935/82H3-HH23   \n",
              "1  https://doi.org/10.7935/82H3-HH23   \n",
              "2  https://doi.org/10.7935/82H3-HH23   \n",
              "3  https://doi.org/10.7935/82H3-HH23   \n",
              "4  https://doi.org/10.7935/82H3-HH23   \n",
              "\n",
              "                                             jsonurl  mass_1_source  \\\n",
              "0  https://www.gw-openscience.org/eventapi/json/G...           35.6   \n",
              "1  https://www.gw-openscience.org/eventapi/json/G...           23.2   \n",
              "2  https://www.gw-openscience.org/eventapi/json/G...           13.7   \n",
              "3  https://www.gw-openscience.org/eventapi/json/G...           30.8   \n",
              "4  https://www.gw-openscience.org/eventapi/json/G...           11.0   \n",
              "\n",
              "   mass_1_source_lower  mass_1_source_upper  ...  redshift_upper  \\\n",
              "0                 -3.1                  4.7  ...            0.03   \n",
              "1                 -5.5                 14.9  ...            0.09   \n",
              "2                 -3.2                  8.8  ...            0.04   \n",
              "3                 -5.6                  7.3  ...            0.08   \n",
              "4                 -1.7                  5.5  ...            0.02   \n",
              "\n",
              "            far  far_lower  far_upper  p_astro  p_astro_lower  p_astro_upper  \\\n",
              "0  1.000000e-07        NaN        NaN      1.0            NaN            NaN   \n",
              "1  7.920000e-03        NaN        NaN      1.0            NaN            NaN   \n",
              "2  1.000000e-07        NaN        NaN      1.0            NaN            NaN   \n",
              "3  1.000000e-07        NaN        NaN      1.0            NaN            NaN   \n",
              "4  1.000000e-07        NaN        NaN      1.0            NaN            NaN   \n",
              "\n",
              "   final_mass_source  final_mass_source_lower  final_mass_source_upper  \n",
              "0               63.1                     -3.0                      3.4  \n",
              "1               35.6                     -3.8                     10.8  \n",
              "2               20.5                     -1.5                      6.4  \n",
              "3               48.9                     -4.0                      5.1  \n",
              "4               17.8                     -0.7                      3.4  \n",
              "\n",
              "[5 rows x 43 columns]"
            ],
            "text/html": [
              "\n",
              "  <div id=\"df-beb8b90e-7e1f-4449-a48c-2de1351e006d\">\n",
              "    <div class=\"colab-df-container\">\n",
              "      <div>\n",
              "<style scoped>\n",
              "    .dataframe tbody tr th:only-of-type {\n",
              "        vertical-align: middle;\n",
              "    }\n",
              "\n",
              "    .dataframe tbody tr th {\n",
              "        vertical-align: top;\n",
              "    }\n",
              "\n",
              "    .dataframe thead th {\n",
              "        text-align: right;\n",
              "    }\n",
              "</style>\n",
              "<table border=\"1\" class=\"dataframe\">\n",
              "  <thead>\n",
              "    <tr style=\"text-align: right;\">\n",
              "      <th></th>\n",
              "      <th>id</th>\n",
              "      <th>commonName</th>\n",
              "      <th>version</th>\n",
              "      <th>catalog.shortName</th>\n",
              "      <th>GPS</th>\n",
              "      <th>reference</th>\n",
              "      <th>jsonurl</th>\n",
              "      <th>mass_1_source</th>\n",
              "      <th>mass_1_source_lower</th>\n",
              "      <th>mass_1_source_upper</th>\n",
              "      <th>...</th>\n",
              "      <th>redshift_upper</th>\n",
              "      <th>far</th>\n",
              "      <th>far_lower</th>\n",
              "      <th>far_upper</th>\n",
              "      <th>p_astro</th>\n",
              "      <th>p_astro_lower</th>\n",
              "      <th>p_astro_upper</th>\n",
              "      <th>final_mass_source</th>\n",
              "      <th>final_mass_source_lower</th>\n",
              "      <th>final_mass_source_upper</th>\n",
              "    </tr>\n",
              "  </thead>\n",
              "  <tbody>\n",
              "    <tr>\n",
              "      <th>0</th>\n",
              "      <td>GW150914-v3</td>\n",
              "      <td>GW150914</td>\n",
              "      <td>3</td>\n",
              "      <td>GWTC-1-confident</td>\n",
              "      <td>1.126259e+09</td>\n",
              "      <td>https://doi.org/10.7935/82H3-HH23</td>\n",
              "      <td>https://www.gw-openscience.org/eventapi/json/G...</td>\n",
              "      <td>35.6</td>\n",
              "      <td>-3.1</td>\n",
              "      <td>4.7</td>\n",
              "      <td>...</td>\n",
              "      <td>0.03</td>\n",
              "      <td>1.000000e-07</td>\n",
              "      <td>NaN</td>\n",
              "      <td>NaN</td>\n",
              "      <td>1.0</td>\n",
              "      <td>NaN</td>\n",
              "      <td>NaN</td>\n",
              "      <td>63.1</td>\n",
              "      <td>-3.0</td>\n",
              "      <td>3.4</td>\n",
              "    </tr>\n",
              "    <tr>\n",
              "      <th>1</th>\n",
              "      <td>GW151012-v3</td>\n",
              "      <td>GW151012</td>\n",
              "      <td>3</td>\n",
              "      <td>GWTC-1-confident</td>\n",
              "      <td>1.128679e+09</td>\n",
              "      <td>https://doi.org/10.7935/82H3-HH23</td>\n",
              "      <td>https://www.gw-openscience.org/eventapi/json/G...</td>\n",
              "      <td>23.2</td>\n",
              "      <td>-5.5</td>\n",
              "      <td>14.9</td>\n",
              "      <td>...</td>\n",
              "      <td>0.09</td>\n",
              "      <td>7.920000e-03</td>\n",
              "      <td>NaN</td>\n",
              "      <td>NaN</td>\n",
              "      <td>1.0</td>\n",
              "      <td>NaN</td>\n",
              "      <td>NaN</td>\n",
              "      <td>35.6</td>\n",
              "      <td>-3.8</td>\n",
              "      <td>10.8</td>\n",
              "    </tr>\n",
              "    <tr>\n",
              "      <th>2</th>\n",
              "      <td>GW151226-v2</td>\n",
              "      <td>GW151226</td>\n",
              "      <td>2</td>\n",
              "      <td>GWTC-1-confident</td>\n",
              "      <td>1.135136e+09</td>\n",
              "      <td>https://doi.org/10.7935/82H3-HH23</td>\n",
              "      <td>https://www.gw-openscience.org/eventapi/json/G...</td>\n",
              "      <td>13.7</td>\n",
              "      <td>-3.2</td>\n",
              "      <td>8.8</td>\n",
              "      <td>...</td>\n",
              "      <td>0.04</td>\n",
              "      <td>1.000000e-07</td>\n",
              "      <td>NaN</td>\n",
              "      <td>NaN</td>\n",
              "      <td>1.0</td>\n",
              "      <td>NaN</td>\n",
              "      <td>NaN</td>\n",
              "      <td>20.5</td>\n",
              "      <td>-1.5</td>\n",
              "      <td>6.4</td>\n",
              "    </tr>\n",
              "    <tr>\n",
              "      <th>3</th>\n",
              "      <td>GW170104-v2</td>\n",
              "      <td>GW170104</td>\n",
              "      <td>2</td>\n",
              "      <td>GWTC-1-confident</td>\n",
              "      <td>1.167560e+09</td>\n",
              "      <td>https://doi.org/10.7935/82H3-HH23</td>\n",
              "      <td>https://www.gw-openscience.org/eventapi/json/G...</td>\n",
              "      <td>30.8</td>\n",
              "      <td>-5.6</td>\n",
              "      <td>7.3</td>\n",
              "      <td>...</td>\n",
              "      <td>0.08</td>\n",
              "      <td>1.000000e-07</td>\n",
              "      <td>NaN</td>\n",
              "      <td>NaN</td>\n",
              "      <td>1.0</td>\n",
              "      <td>NaN</td>\n",
              "      <td>NaN</td>\n",
              "      <td>48.9</td>\n",
              "      <td>-4.0</td>\n",
              "      <td>5.1</td>\n",
              "    </tr>\n",
              "    <tr>\n",
              "      <th>4</th>\n",
              "      <td>GW170608-v3</td>\n",
              "      <td>GW170608</td>\n",
              "      <td>3</td>\n",
              "      <td>GWTC-1-confident</td>\n",
              "      <td>1.180922e+09</td>\n",
              "      <td>https://doi.org/10.7935/82H3-HH23</td>\n",
              "      <td>https://www.gw-openscience.org/eventapi/json/G...</td>\n",
              "      <td>11.0</td>\n",
              "      <td>-1.7</td>\n",
              "      <td>5.5</td>\n",
              "      <td>...</td>\n",
              "      <td>0.02</td>\n",
              "      <td>1.000000e-07</td>\n",
              "      <td>NaN</td>\n",
              "      <td>NaN</td>\n",
              "      <td>1.0</td>\n",
              "      <td>NaN</td>\n",
              "      <td>NaN</td>\n",
              "      <td>17.8</td>\n",
              "      <td>-0.7</td>\n",
              "      <td>3.4</td>\n",
              "    </tr>\n",
              "  </tbody>\n",
              "</table>\n",
              "<p>5 rows × 43 columns</p>\n",
              "</div>\n",
              "      <button class=\"colab-df-convert\" onclick=\"convertToInteractive('df-beb8b90e-7e1f-4449-a48c-2de1351e006d')\"\n",
              "              title=\"Convert this dataframe to an interactive table.\"\n",
              "              style=\"display:none;\">\n",
              "        \n",
              "  <svg xmlns=\"http://www.w3.org/2000/svg\" height=\"24px\"viewBox=\"0 0 24 24\"\n",
              "       width=\"24px\">\n",
              "    <path d=\"M0 0h24v24H0V0z\" fill=\"none\"/>\n",
              "    <path d=\"M18.56 5.44l.94 2.06.94-2.06 2.06-.94-2.06-.94-.94-2.06-.94 2.06-2.06.94zm-11 1L8.5 8.5l.94-2.06 2.06-.94-2.06-.94L8.5 2.5l-.94 2.06-2.06.94zm10 10l.94 2.06.94-2.06 2.06-.94-2.06-.94-.94-2.06-.94 2.06-2.06.94z\"/><path d=\"M17.41 7.96l-1.37-1.37c-.4-.4-.92-.59-1.43-.59-.52 0-1.04.2-1.43.59L10.3 9.45l-7.72 7.72c-.78.78-.78 2.05 0 2.83L4 21.41c.39.39.9.59 1.41.59.51 0 1.02-.2 1.41-.59l7.78-7.78 2.81-2.81c.8-.78.8-2.07 0-2.86zM5.41 20L4 18.59l7.72-7.72 1.47 1.35L5.41 20z\"/>\n",
              "  </svg>\n",
              "      </button>\n",
              "      \n",
              "  <style>\n",
              "    .colab-df-container {\n",
              "      display:flex;\n",
              "      flex-wrap:wrap;\n",
              "      gap: 12px;\n",
              "    }\n",
              "\n",
              "    .colab-df-convert {\n",
              "      background-color: #E8F0FE;\n",
              "      border: none;\n",
              "      border-radius: 50%;\n",
              "      cursor: pointer;\n",
              "      display: none;\n",
              "      fill: #1967D2;\n",
              "      height: 32px;\n",
              "      padding: 0 0 0 0;\n",
              "      width: 32px;\n",
              "    }\n",
              "\n",
              "    .colab-df-convert:hover {\n",
              "      background-color: #E2EBFA;\n",
              "      box-shadow: 0px 1px 2px rgba(60, 64, 67, 0.3), 0px 1px 3px 1px rgba(60, 64, 67, 0.15);\n",
              "      fill: #174EA6;\n",
              "    }\n",
              "\n",
              "    [theme=dark] .colab-df-convert {\n",
              "      background-color: #3B4455;\n",
              "      fill: #D2E3FC;\n",
              "    }\n",
              "\n",
              "    [theme=dark] .colab-df-convert:hover {\n",
              "      background-color: #434B5C;\n",
              "      box-shadow: 0px 1px 3px 1px rgba(0, 0, 0, 0.15);\n",
              "      filter: drop-shadow(0px 1px 2px rgba(0, 0, 0, 0.3));\n",
              "      fill: #FFFFFF;\n",
              "    }\n",
              "  </style>\n",
              "\n",
              "      <script>\n",
              "        const buttonEl =\n",
              "          document.querySelector('#df-beb8b90e-7e1f-4449-a48c-2de1351e006d button.colab-df-convert');\n",
              "        buttonEl.style.display =\n",
              "          google.colab.kernel.accessAllowed ? 'block' : 'none';\n",
              "\n",
              "        async function convertToInteractive(key) {\n",
              "          const element = document.querySelector('#df-beb8b90e-7e1f-4449-a48c-2de1351e006d');\n",
              "          const dataTable =\n",
              "            await google.colab.kernel.invokeFunction('convertToInteractive',\n",
              "                                                     [key], {});\n",
              "          if (!dataTable) return;\n",
              "\n",
              "          const docLinkHtml = 'Like what you see? Visit the ' +\n",
              "            '<a target=\"_blank\" href=https://colab.research.google.com/notebooks/data_table.ipynb>data table notebook</a>'\n",
              "            + ' to learn more about interactive tables.';\n",
              "          element.innerHTML = '';\n",
              "          dataTable['output_type'] = 'display_data';\n",
              "          await google.colab.output.renderOutput(dataTable, element);\n",
              "          const docLink = document.createElement('div');\n",
              "          docLink.innerHTML = docLinkHtml;\n",
              "          element.appendChild(docLink);\n",
              "        }\n",
              "      </script>\n",
              "    </div>\n",
              "  </div>\n",
              "  "
            ]
          },
          "metadata": {},
          "execution_count": 97
        }
      ]
    },
    {
      "cell_type": "code",
      "source": [
        "df[\"catalog.shortName\"].unique()"
      ],
      "metadata": {
        "colab": {
          "base_uri": "https://localhost:8080/"
        },
        "id": "Gu8hcDeoJ5pz",
        "outputId": "b7d17c83-628b-4b65-9307-7b2153a8da29"
      },
      "execution_count": null,
      "outputs": [
        {
          "output_type": "execute_result",
          "data": {
            "text/plain": [
              "array(['GWTC-1-confident', 'GWTC-2.1-confident', 'GWTC-2',\n",
              "       'GWTC-2.1-auxiliary', 'GWTC-2.1-marginal', 'GWTC-3-confident'],\n",
              "      dtype=object)"
            ]
          },
          "metadata": {},
          "execution_count": 103
        }
      ]
    },
    {
      "cell_type": "markdown",
      "source": [
        "## O que são esse monte de colunas?\n",
        "\n",
        "O que são essas features? O que elas significam?"
      ],
      "metadata": {
        "id": "_3bHhaNwHt-d"
      }
    },
    {
      "cell_type": "markdown",
      "source": [
        "- 🆔 --> etiqueta 'string' de identificação dessa linha\n",
        "- commonName --> Evento/Onda gravitacional detectada\n",
        "- version --> Versão do banco de dados\n",
        "- catalog.shortName --> Catálogo de Classificação de confiabilidade na detecção\n",
        "- GPS -->\n",
        "- reference\n",
        "- jsonurl\n",
        "- mass_1_source\n",
        "- mass_1_source_lower\n",
        "- mass_1_source_upper\n",
        "- mass_2_source\n",
        "- mass_2_source_lower\n",
        "- mass_2_source_upper\n",
        "- network_matched_filter_snr\n",
        "- network_matched_filter_snr_lower\n",
        "- network_matched_filter_snr_upper\n",
        "- luminosity_distance\n",
        "- luminosity_distance_lower\n",
        "- luminosity_distance_upper\n",
        "- chi_eff\n",
        "- chi_eff_lower\n",
        "- chi_eff_upper\n",
        "- total_mass_source\n",
        "- total_mass_source_lower\n",
        "- total_mass_source_upper\n",
        "- chirp_mass_source\n",
        "- chirp_mass_source_lower\n",
        "- chirp_mass_source_upper\n",
        "- chirp_mass\n",
        "- chirp_mass_lower\n",
        "- chirp_mass_upper\n",
        "- redshift\n",
        "- redshift_lower\n",
        "- redshift_upper\n",
        "- far\n",
        "- far_lower\n",
        "- far_upper\n",
        "- p_astro\n",
        "- p_astro_lower\n",
        "- p_astro_upper\n",
        "- final_mass_source\n",
        "- final_mass_source_lower\n",
        "- final_mass_source_upper"
      ],
      "metadata": {
        "id": "SWiwGaSsIHaH"
      }
    },
    {
      "cell_type": "code",
      "source": [
        ""
      ],
      "metadata": {
        "id": "X3GJWjmcH3PT"
      },
      "execution_count": null,
      "outputs": []
    }
  ]
}