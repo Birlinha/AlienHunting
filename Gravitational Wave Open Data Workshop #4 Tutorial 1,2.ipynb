{
  "cells": [
    {
      "cell_type": "markdown",
      "metadata": {
        "Collapsed": "false",
        "id": "tcXQnfN0vvWt"
      },
      "source": [
        "<img style=\"float: left;padding: 1.3em\" src=\"https://indico.in2p3.fr/event/18313/logo-786578160.png\">  \n",
        "\n",
        "#  Gravitational Wave Open Data Workshop #4\n",
        "\n",
        "\n",
        "#### Tutorial 1.2: Introduction to GWpy\n",
        "\n",
        "This tutorial will briefly describe GWpy, a python package for gravitational astrophysics, and walk-through how you can use this to speed up access to, and processing of, GWOSC data.\n",
        "    \n",
        "[Click this link to view this tutorial in Google Colaboratory](https://colab.research.google.com/github/gw-odw/odw-2021/blob/master/Day_1/Tuto%201.2%20Open%20Data%20access%20with%20GWpy.ipynb)\n",
        "\n",
        "<div class=\"alert alert-info\">This notebook was generated using python 3.8, but should work on python 2.7, 3.6, or 3.7.</div>"
      ]
    },
    {
      "cell_type": "markdown",
      "metadata": {
        "Collapsed": "false",
        "id": "AXkLJmTgvvWw"
      },
      "source": [
        "##  Installation  (execute only if running on a cloud platform, like Google Colab, or if you haven't done the installation already!)\n",
        "\n",
        "Note: we use [`pip`](https://docs.python.org/3.6/installing/), but **it is recommended** to use [conda](https://docs.ligo.org/lscsoft/conda/) on your own machine, as explained in the [installation instructions](https://github.com/gw-odw/odw-2021|/blob/master/setup.md). This usage might look a little different than normal, simply because we want to do this directly from the notebook."
      ]
    },
    {
      "cell_type": "code",
      "execution_count": null,
      "metadata": {
        "Collapsed": "false",
        "id": "RDmzrP5yvvWx"
      },
      "outputs": [],
      "source": [
        "# -- Uncomment following line if running in Google Colab\n",
        "! pip install -q 'gwpy==2.0.2'"
      ]
    },
    {
      "cell_type": "markdown",
      "metadata": {
        "Collapsed": "false",
        "id": "KSHN5q5MvvW3"
      },
      "source": [
        "**Important:** With Google Colab, you may need to restart the runtime after running the cell above."
      ]
    },
    {
      "cell_type": "markdown",
      "metadata": {
        "Collapsed": "false",
        "id": "QnyfjBa2vvW4"
      },
      "source": [
        "## Initialization"
      ]
    },
    {
      "cell_type": "code",
      "execution_count": null,
      "metadata": {
        "Collapsed": "false",
        "id": "jIaR3vWavvW5"
      },
      "outputs": [],
      "source": [
        "import gwpy\n",
        "print(gwpy.__version__)"
      ]
    },
    {
      "cell_type": "markdown",
      "metadata": {
        "Collapsed": "false",
        "id": "kQ2BP99lvvW-"
      },
      "source": [
        "## A note on object-oriented programming\n",
        "\n",
        "Before we dive too deeply, it's worth a quick aside on object-oriented programming (OOP).\n",
        "[GWpy](https://gwpy.github.io/docs/stable/index.html) is heavily object-oriented, meaning almost all of the code you run using GWpy is based around an object of some type, e.g. `TimeSeries`.\n",
        "Most of the methods (functions) we will use are attached to an object, rather than standing alone, meaning you should have a pretty good idea of what sort of data you are dealing with (without having to read the documentation!).\n",
        "\n",
        "For a quick overview of object-oriented programming in Python, see [this blog post by Jeff Knupp](https://jeffknupp.com/blog/2014/06/18/improve-your-python-python-classes-and-object-oriented-programming/)."
      ]
    },
    {
      "cell_type": "markdown",
      "metadata": {
        "Collapsed": "false",
        "id": "nDrXzJsNvvXA"
      },
      "source": [
        "## Handling data in the time domain"
      ]
    },
    {
      "cell_type": "markdown",
      "metadata": {
        "Collapsed": "false",
        "id": "rphj1bJKvvXB"
      },
      "source": [
        "#### Finding open data\n",
        "\n",
        "We have seen already that the `gwosc` module can be used to query for what data are available on [GWOSC](https://www.gw-openscience.org/data/).\n",
        "The next thing to do is to actually read some open data. Let's try to get some for GW190412, the first detection of a gravitational-wave signal from an unequal-mass BBH (binary black hole system).\n",
        "\n",
        "We can use the [`TimeSeries.fetch_open_data`](https://gwpy.github.io/docs/stable/api/gwpy.timeseries.TimeSeries.html#gwpy.timeseries.TimeSeries.fetch_open_data) method to download data directly from https://www.gw-openscience.org, but we need to know the GPS times.\n",
        "We can query for the GPS time of an event as follows:"
      ]
    },
    {
      "cell_type": "code",
      "execution_count": null,
      "metadata": {
        "Collapsed": "false",
        "id": "lPUz-bGEvvXD"
      },
      "outputs": [],
      "source": [
        "from gwosc.datasets import event_gps\n",
        "gps = event_gps('GW190412')\n",
        "print(gps)"
      ]
    },
    {
      "cell_type": "markdown",
      "metadata": {
        "Collapsed": "false",
        "id": "65mRiIVbvvXH"
      },
      "source": [
        "Now we can build a `[start, end)` GPS segment to 10 seconds around this time, using integers for convenience:"
      ]
    },
    {
      "cell_type": "code",
      "execution_count": null,
      "metadata": {
        "Collapsed": "false",
        "id": "jNO-gRsivvXJ"
      },
      "outputs": [],
      "source": [
        "segment = (int(gps)-5, int(gps)+5)\n",
        "print(segment)"
      ]
    },
    {
      "cell_type": "markdown",
      "metadata": {
        "Collapsed": "false",
        "id": "erm3jptAvvXO"
      },
      "source": [
        "and can now query for the full data.\n",
        "For this example we choose to retrieve data for the LIGO-Livingston interferometer, using the identifier `'L1'`.\n",
        "We could have chosen any of\n",
        "\n",
        "- `'G1`' - GEO600\n",
        "- `'H1'` - LIGO-Hanford\n",
        "- `'L1'` - LIGO-Livingston\n",
        "- `'V1'` - (Advanced) Virgo\n",
        "\n",
        "In the future, the Japanese observatory KAGRA will come online, with the identifier `'K1'`."
      ]
    },
    {
      "cell_type": "code",
      "execution_count": null,
      "metadata": {
        "Collapsed": "false",
        "id": "KNyXDc6GvvXP"
      },
      "outputs": [],
      "source": [
        "from gwpy.timeseries import TimeSeries\n",
        "ldata = TimeSeries.fetch_open_data('L1', *segment, verbose=True)\n",
        "print(ldata)"
      ]
    },
    {
      "cell_type": "markdown",
      "metadata": {
        "Collapsed": "false",
        "id": "HaAG221avvXV"
      },
      "source": [
        "##### The `verbose=True` flag lets us see that GWpy has discovered one file that provides the data for the given interval, downloaded it, and loaded the data.\n",
        "The files are not stored permanently, so next time you do the same call, it will be downloaded again, however, if you know you might repeat the same call many times, you can use `cache=True` to store the file on your computer.\n",
        "\n",
        "Notes: \n",
        "\n",
        "* To control the dataset from which your data come from you can use the 'dataset' keyword. It is recommended to use data from a run if they are available, because they contain the most updated version of the calibration. To check which was the run at the time you want to query, it is enough to use the find_datasets method of the package gwosc discussed in the previous tutorial, specifying (type='run',segment=segment). For example, for the segment we are using in this tutorial, the two available datasets are ['O3a_16KHZ_R1', 'O3a_4KHZ_R1']. For the sampling at 4 kHz, the complete command to get data from this dataset is then: _TimeSeries.fetch_open_data('L1', *segment, verbose=True, dataset='O3a_4KHZ_R1')_  \n",
        "\n",
        "* To read data from a local file instead of from the GWOSC server, we can use [`TimeSeries.read`](https://gwpy.github.io/docs/stable/api/gwpy.timeseries.TimeSeries.html#gwpy.timeseries.TimeSeries.read) method.\n",
        "\n",
        "We have now downloaded real LIGO data for GW190412! These are the actual data used in the analysis that discovered the first binary black hole merger."
      ]
    },
    {
      "cell_type": "markdown",
      "metadata": {
        "Collapsed": "false",
        "id": "20R_MEXlvvXW"
      },
      "source": [
        "To sanity check things, we can easily make a plot, using the [`plot()`](https://gwpy.github.io/docs/stable/timeseries/plot.html) method of the `data` `TimeSeries`."
      ]
    },
    {
      "cell_type": "markdown",
      "metadata": {
        "Collapsed": "false",
        "id": "qpYocnKovvXY"
      },
      "source": [
        "<div class=\"alert alert-info\">\n",
        "Since this is the first time we are plotting something in this notebook, we need to configure `matplotlib` (the plotting library) to work within the notebook properly:\n",
        "</div>"
      ]
    },
    {
      "cell_type": "markdown",
      "metadata": {
        "Collapsed": "false",
        "id": "2Z6dwPzr2VJW"
      },
      "source": [
        "Matplotlib documentation can be found [`here`](https://matplotlib.org/contents.html)."
      ]
    },
    {
      "cell_type": "code",
      "execution_count": null,
      "metadata": {
        "Collapsed": "false",
        "id": "BALbycwJvvXa"
      },
      "outputs": [],
      "source": [
        "%matplotlib inline\n",
        "plot = ldata.plot()"
      ]
    },
    {
      "cell_type": "markdown",
      "metadata": {
        "Collapsed": "false",
        "id": "1irX8-UnvvXd"
      },
      "source": [
        "Notes: There are alternative ways to access the GWOSC data. \n",
        "\n",
        "* [`readligo`](https://losc.ligo.org/s/sample_code/readligo.py) is a light-weight Python module that returns the time series into a Numpy array.\n",
        "* The [PyCBC](http://github.com/ligo-cbc/pycbc) package has the `pycbc.frame.query_and_read_frame` and `pycbc.frame.read_frame` methods. We use [PyCBC](http://github.com/ligo-cbc/pycbc) in Tutorial 2.1, 2.2 and 2.3. "
      ]
    },
    {
      "cell_type": "markdown",
      "metadata": {
        "Collapsed": "false",
        "id": "TKRQ5EIivvXg"
      },
      "source": [
        "## Handling data in the frequency domain using the Fourier transform\n",
        "\n",
        "The [Fourier transform](https://en.wikipedia.org/wiki/Fourier_transform) is a widely-used mathematical tool to expose the frequency-domain content of a time-domain signal, meaning we can see which frequencies contain lots of power, and which have less.\n",
        "\n",
        "We can calculate the Fourier transform of our `TimeSeries` using the [`fft()`](https://gwpy.github.io/docs/stable/api/gwpy.timeseries.TimeSeries.html#gwpy.timeseries.TimeSeries.fft) method:"
      ]
    },
    {
      "cell_type": "code",
      "execution_count": null,
      "metadata": {
        "Collapsed": "false",
        "id": "TUZ5NAA4vvXh"
      },
      "outputs": [],
      "source": [
        "fft = ldata.fft()\n",
        "print(fft)"
      ]
    },
    {
      "cell_type": "markdown",
      "metadata": {
        "Collapsed": "false",
        "id": "O-Y_RfuJvvXn"
      },
      "source": [
        "The result is a [`FrequencySeries`](https://gwpy.github.io/docs/stable/frequencyseries/), with complex amplitude, representing the amplitude and phase of each frequency in our data.\n",
        "We can use `abs()` to extract the amplitude and plot that:"
      ]
    },
    {
      "cell_type": "code",
      "execution_count": null,
      "metadata": {
        "Collapsed": "false",
        "id": "3nkJpEWsvvXo"
      },
      "outputs": [],
      "source": [
        "plot = fft.abs().plot(xscale=\"log\", yscale=\"log\")\n",
        "plot.show(warn=False)"
      ]
    },
    {
      "cell_type": "markdown",
      "metadata": {
        "Collapsed": "false",
        "id": "Jagnf6gXvvXr"
      },
      "source": [
        "This doesn't look correct at all!\n",
        "The problem is that the FFT works under the assumption that our data are periodic, which means that the edges of our data look like discontinuities when transformed.\n",
        "We need to apply a window function to our time-domain data before transforming, which we can do using the [`scipy.signal`](https://docs.scipy.org/doc/scipy/reference/signal.html) module:"
      ]
    },
    {
      "cell_type": "code",
      "execution_count": null,
      "metadata": {
        "Collapsed": "false",
        "id": "QStxzaxivvXs"
      },
      "outputs": [],
      "source": [
        "from scipy.signal import get_window\n",
        "window = get_window('hann', ldata.size)\n",
        "lwin = ldata * window"
      ]
    },
    {
      "cell_type": "markdown",
      "metadata": {
        "Collapsed": "false",
        "id": "-CE93sCevvXw"
      },
      "source": [
        "Let's try our transform again and see what we get"
      ]
    },
    {
      "cell_type": "code",
      "execution_count": null,
      "metadata": {
        "Collapsed": "false",
        "id": "iIpCU4F_vvXx"
      },
      "outputs": [],
      "source": [
        "fftamp = lwin.fft().abs()\n",
        "plot = fftamp.plot(xscale=\"log\", yscale=\"log\")\n",
        "plot.show(warn=False)"
      ]
    },
    {
      "cell_type": "markdown",
      "metadata": {
        "Collapsed": "false",
        "id": "LN-j1qNovvXz"
      },
      "source": [
        "This looks a little more like what we expect for the amplitude spectral density of a gravitational-wave detector."
      ]
    },
    {
      "cell_type": "markdown",
      "metadata": {
        "Collapsed": "false",
        "id": "MkznZBKhvvX0"
      },
      "source": [
        "## Calculating the power spectral density\n",
        "\n",
        "In practice, we typically use a large number of FFTs to estimate an average power spectral density over a long period of data.\n",
        "We can do this using the [`asd()`](https://gwpy.github.io/docs/stable/api/gwpy.timeseries.TimeSeries.html#gwpy.timeseries.TimeSeries.asd) method, which uses [Welch's method](https://en.wikipedia.org/wiki/Welch%27s_method) to combine FFTs of overlapping, windowed chunks of data."
      ]
    },
    {
      "cell_type": "code",
      "execution_count": null,
      "metadata": {
        "Collapsed": "false",
        "id": "n8Vs3we5vvX1"
      },
      "outputs": [],
      "source": [
        "asd = ldata.asd(fftlength=4, method=\"median\")\n",
        "plot = asd.plot()\n",
        "plot.show(warn=False)"
      ]
    },
    {
      "cell_type": "code",
      "execution_count": null,
      "metadata": {
        "Collapsed": "false",
        "id": "oNCOIFixvvX4"
      },
      "outputs": [],
      "source": [
        "ax = plot.gca()\n",
        "ax.set_xlim(10, 1400)\n",
        "ax.set_ylim(1e-24, 1e-20)\n",
        "plot"
      ]
    },
    {
      "cell_type": "markdown",
      "metadata": {
        "Collapsed": "false",
        "id": "OF0k2n-nvvX7"
      },
      "source": [
        "The ASD is a standard tool used to study the frequency-domain sensitivity of a gravitational-wave detector.\n",
        "For the LIGO-Livingston data we loaded, we can see large spikes at certain frequencies, including\n",
        "\n",
        "- ~300 Hz\n",
        "- ~500 Hz\n",
        "- ~1000 Hz\n",
        "\n",
        "The [O2 spectral lines](https://www.gw-openscience.org/o2speclines/) page on GWOSC describes a number of these spectral features for O2, with some of them being forced upon us, and some being deliberately introduced to help with interferometer control.\n",
        "\n",
        "Loading more data allows for more FFTs to be averaged during the ASD calculation, meaning random variations get averaged out, and we can see more detail:"
      ]
    },
    {
      "cell_type": "code",
      "execution_count": null,
      "metadata": {
        "Collapsed": "false",
        "id": "wHyyXa4DvvX7"
      },
      "outputs": [],
      "source": [
        "ldata2 = TimeSeries.fetch_open_data('L1', int(gps)-512, int(gps)+512, cache=True)\n",
        "lasd2 = ldata2.asd(fftlength=4, method=\"median\")\n",
        "plot = lasd2.plot()\n",
        "ax = plot.gca()\n",
        "ax.set_xlim(10, 1400)\n",
        "ax.set_ylim(1e-24, 1e-20)\n",
        "plot.show(warn=False)"
      ]
    },
    {
      "cell_type": "markdown",
      "metadata": {
        "Collapsed": "false",
        "id": "XehA6HMUvvX-"
      },
      "source": [
        "Now we can see some more features, including sets of lines around ~30 Hz and ~65 Hz, and some more isolated lines through the more sensitive region.\n",
        "\n",
        "For comparison, we can load the LIGO-Hanford data and plot that as well:"
      ]
    },
    {
      "cell_type": "code",
      "execution_count": null,
      "metadata": {
        "Collapsed": "false",
        "id": "wyZdgIAfvvX_",
        "scrolled": true,
        "tags": []
      },
      "outputs": [],
      "source": [
        "# get Hanford data\n",
        "hdata2 = TimeSeries.fetch_open_data('H1', int(gps)-512, int(gps)+512, cache=True)\n",
        "hasd2 = hdata2.asd(fftlength=4, method=\"median\")\n",
        "\n",
        "# get Virgo data\n",
        "vdata2 = TimeSeries.fetch_open_data('V1', int(gps)-512, int(gps)+512, cache=True)\n",
        "vasd2 = vdata2.asd(fftlength=4, method=\"median\")\n",
        "\n",
        "# and plot using standard colours\n",
        "ax.plot(hasd2, label='LIGO-Hanford', color='gwpy:ligo-hanford')\n",
        "ax.plot(vasd2, label='Virgo', color='gwpy:virgo')\n",
        "\n",
        "# update the Livingston line to use standard colour, and have a label\n",
        "lline = ax.lines[0]\n",
        "lline.set_color('gwpy:ligo-livingston')  # change colour of Livingston data\n",
        "lline.set_label('LIGO-Livingston')\n",
        "\n",
        "ax.set_ylabel(r'Strain noise [$1/\\sqrt{\\mathrm{Hz}}$]')\n",
        "ax.legend()\n",
        "plot"
      ]
    },
    {
      "cell_type": "markdown",
      "metadata": {
        "Collapsed": "false",
        "id": "vQ5Yr15FvvYB"
      },
      "source": [
        "Now we can see clearly the relative sensitivity of each LIGO instrument, the common features between both, and those unique to each observatory."
      ]
    },
    {
      "cell_type": "markdown",
      "metadata": {
        "Collapsed": "false",
        "id": "ARjui2NF2VJb"
      },
      "source": [
        "# Challenges:"
      ]
    },
    {
      "cell_type": "markdown",
      "metadata": {
        "Collapsed": "false",
        "id": "9s63fjSWvvXe"
      },
      "source": [
        "##### Quiz Question 1:\n",
        "\n",
        "The peak amplitude in the LIGO-Livingston data occurs at approximately 5 seconds into the plot above and is undetectable above the background noise by the eye. Plot the data for the LIGO-Hanford detector around GW190412. Looking at your new LIGO-Handford plot, can your eye identify a signal peak? "
      ]
    },
    {
      "cell_type": "code",
      "execution_count": null,
      "metadata": {
        "Collapsed": "false",
        "id": "e_CLCTuR2VJb"
      },
      "outputs": [],
      "source": [
        ""
      ]
    },
    {
      "cell_type": "markdown",
      "metadata": {
        "Collapsed": "false",
        "id": "bsxhdshp2VJb"
      },
      "source": [
        "# Quiz Question 2 :\n",
        "\n",
        "Make an ASD around the time of an O1 event, GW150914 for L1 detector.  Compare this with the ASDs around GW190412 for L1 detector.  Which data have lower noise - and so are more sensitive - around 100 Hz?\n"
      ]
    },
    {
      "cell_type": "code",
      "execution_count": null,
      "metadata": {
        "Collapsed": "false",
        "id": "8yWVcrob2VJc"
      },
      "outputs": [],
      "source": [
        ""
      ]
    }
  ],
  "metadata": {
    "colab": {
      "name": "Tuto 1.2 Open Data access with GWpy.ipynb",
      "provenance": []
    },
    "kernelspec": {
      "display_name": "igwn-py38",
      "language": "python",
      "name": "igwn-py38"
    },
    "language_info": {
      "codemirror_mode": {
        "name": "ipython",
        "version": 3
      },
      "file_extension": ".py",
      "mimetype": "text/x-python",
      "name": "python",
      "nbconvert_exporter": "python",
      "pygments_lexer": "ipython3",
      "version": "3.8.6"
    }
  },
  "nbformat": 4,
  "nbformat_minor": 0
}