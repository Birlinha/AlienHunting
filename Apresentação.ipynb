{
 "cells": [
  {
   "cell_type": "markdown",
   "metadata": {
    "colab_type": "text",
    "id": "view-in-github"
   },
   "source": [
    "<a href=\"https://colab.research.google.com/github/Birlinha/AlienHunting/blob/main/02_simplifiedAlienHunting.ipynb\" target=\"_parent\"><img src=\"https://colab.research.google.com/assets/colab-badge.svg\" alt=\"Open In Colab\"/></a>"
   ]
  },
  {
   "cell_type": "markdown",
   "metadata": {
    "id": "azuKt4rzyr8f"
   },
   "source": [
    "# 👽 Quem está pronto para um **Encontro Imediato** 🛸?\n",
    "\n",
    "Hoje vamos analisar imagens de satélite, em busca de atividade alienígena\n",
    "\n",
    "Para realizar isso, antes precisamos entender um pouco sobre a Escala de Kardashev. Ela serve como régua para aferição do tamanho e influência de uma civilização sobre os planetas e galáxias em que habitam"
   ]
  },
  {
   "cell_type": "code",
   "execution_count": 15,
   "metadata": {
    "colab": {
     "base_uri": "https://localhost:8080/",
     "height": 742
    },
    "id": "DkksQ7N1ymZA",
    "outputId": "a713bfed-3d6b-4dcf-a8e4-c6dc5216f649"
   },
   "outputs": [
    {
     "data": {
      "text/html": [
       "<img src=\"https://danhairfield.files.wordpress.com/2014/05/paul.jpg\" style=\"width:100%;height:720px;      object-fit:cover;object-position:0 30%;\">\n"
      ],
      "text/plain": [
       "<IPython.core.display.HTML object>"
      ]
     },
     "metadata": {},
     "output_type": "display_data"
    }
   ],
   "source": [
    "%%html\n",
    "<img src=\"https://danhairfield.files.wordpress.com/2014/05/paul.jpg\" style=\"width:100%;height:720px;      object-fit:cover;object-position:0 30%;\">"
   ]
  },
  {
   "cell_type": "markdown",
   "metadata": {
    "id": "nlS_UCmpzCG3"
   },
   "source": [
    "# Escala Kardashev\n",
    "Essa é a escala de classificação de civilizações (projetada com a intenção de identificar e categorizar civilizações extra-terrestres):\n",
    "\n",
    "- TIPO 0 [🦠] - É capaz de utilizar toda a Enegia disponível em seu próprio organismo\n",
    "- TIPO 1 [🌎] - O organismo é capaz de utilizar toda a energia disponível no planeta em que vive\n",
    "- TIPO 2 [☀️] - Toda Energia disponível em seu sistema solar/estrela\n",
    "- TIPO 3 [🌌] - Energia de toda uma galáxia\n",
    "- TIPO 4 [⚛️] - E = mc², em múltiplas galáxias"
   ]
  },
  {
   "cell_type": "code",
   "execution_count": 16,
   "metadata": {
    "colab": {
     "base_uri": "https://localhost:8080/",
     "height": 337
    },
    "id": "EH7dYrQgytne",
    "outputId": "aad3f3a8-16e2-448f-c987-42ac3e57cb85"
   },
   "outputs": [
    {
     "data": {
      "text/html": [
       "<iframe width=\"560\" height=\"315\" src=\"https://www.youtube.com/embed/rhFK5_Nx9xY?clip=Ugkx_FClgV4g75KAxU45UusDWJHSqmQioj8D&amp;clipt=ELm6Cxjr-Q4\" title=\"YouTube video player\" frameborder=\"0\" allow=\"accelerometer; autoplay; clipboard-write; encrypted-media; gyroscope; picture-in-picture\" allowfullscreen></iframe>\n"
      ],
      "text/plain": [
       "<IPython.core.display.HTML object>"
      ]
     },
     "metadata": {},
     "output_type": "display_data"
    }
   ],
   "source": [
    "%%html\n",
    "<iframe width=\"560\" height=\"315\" src=\"https://www.youtube.com/embed/rhFK5_Nx9xY?clip=Ugkx_FClgV4g75KAxU45UusDWJHSqmQioj8D&amp;clipt=ELm6Cxjr-Q4\" title=\"YouTube video player\" frameborder=\"0\" allow=\"accelerometer; autoplay; clipboard-write; encrypted-media; gyroscope; picture-in-picture\" allowfullscreen></iframe>"
   ]
  },
  {
   "cell_type": "markdown",
   "metadata": {
    "id": "LSRCvantz072"
   },
   "source": [
    "# Propostas de formas de Detecção de Civilizações\n",
    "\n",
    "Como encontrar uma civilização entre os Tipo 3 🌌 e Tipo 4 ⚛️\n",
    "\n",
    "- Detecção de ondas gravitacionais\n",
    "\n",
    "  1- porquê: civilizações avançadas podem estar interessadas na quantidade de energia armazenada em buracos negros, ou suas reações em forma de ondas gravitacionais.\n",
    "\n",
    "  2- como: identificação de ondas gravitacionais, análise de causa-raiz (o que causou a onda). Quando soubermos a fonte da onda, poderemos procurar por atividade alienigena 👽 por onde essa onda passa, através de dados visuais 🔭 ou outras formas 💹\n",
    "\n",
    "  3- dados: [Gravitational Wave Open Science Center](https://www.gw-openscience.org/eventapi/html/GWTC/)"
   ]
  },
  {
   "cell_type": "code",
   "execution_count": 24,
   "metadata": {
    "id": "cWCkaQM0zU9n"
   },
   "outputs": [],
   "source": [
    "#!pip install gwosc\n",
    "#!pip install \"ligo-segments==1.3.0\"\n",
    "#!pip install gwpy"
   ]
  },
  {
   "cell_type": "code",
   "execution_count": null,
   "metadata": {},
   "outputs": [],
   "source": [
    "!conda update -n base -c defaults conda"
   ]
  },
  {
   "cell_type": "code",
   "execution_count": null,
   "metadata": {},
   "outputs": [],
   "source": [
    "!conda install -c conda-forge gwpy"
   ]
  },
  {
   "cell_type": "markdown",
   "metadata": {
    "id": "OqDNISO43YRJ"
   },
   "source": [
    "# Coding Time\n",
    "\n",
    "[GWOSC Workshop](https://www.gw-openscience.org/odw/odw2022) - Gravitational Waves Open Science Center\n",
    "\n",
    "Vamos usar os pacote de dados provisionado por eles [gwosc](https://gwosc.readthedocs.io/en/stable/) & [gwpy](https://gwpy.github.io/docs/stable/index.html)"
   ]
  },
  {
   "cell_type": "code",
   "execution_count": 10,
   "metadata": {},
   "outputs": [],
   "source": [
    "import gwosc\n",
    "from gwosc import datasets\n",
    "import pandas as pd"
   ]
  },
  {
   "cell_type": "code",
   "execution_count": null,
   "metadata": {},
   "outputs": [],
   "source": []
  },
  {
   "cell_type": "code",
   "execution_count": null,
   "metadata": {},
   "outputs": [],
   "source": []
  },
  {
   "cell_type": "code",
   "execution_count": null,
   "metadata": {},
   "outputs": [],
   "source": []
  },
  {
   "cell_type": "code",
   "execution_count": 11,
   "metadata": {},
   "outputs": [],
   "source": [
    "jfile = gwosc.datasets.api.fetch_allevents_json()"
   ]
  },
  {
   "cell_type": "code",
   "execution_count": 12,
   "metadata": {},
   "outputs": [],
   "source": [
    "def gwos_json_to_pd(jsonfile):\n",
    "    i = jfile[\"events\"].keys()\n",
    "    dt = []\n",
    "    \n",
    "    for name in i:\n",
    "        d = jfile[\"events\"][name]\n",
    "        dt.append(d)\n",
    "    \n",
    "    df = pd.DataFrame(index=i,data=dt)\n",
    "    return df"
   ]
  },
  {
   "cell_type": "code",
   "execution_count": 13,
   "metadata": {},
   "outputs": [],
   "source": [
    "df = gwos_json_to_pd(jfile)"
   ]
  },
  {
   "cell_type": "code",
   "execution_count": 14,
   "metadata": {},
   "outputs": [
    {
     "data": {
      "text/html": [
       "<div>\n",
       "<style scoped>\n",
       "    .dataframe tbody tr th:only-of-type {\n",
       "        vertical-align: middle;\n",
       "    }\n",
       "\n",
       "    .dataframe tbody tr th {\n",
       "        vertical-align: top;\n",
       "    }\n",
       "\n",
       "    .dataframe thead th {\n",
       "        text-align: right;\n",
       "    }\n",
       "</style>\n",
       "<table border=\"1\" class=\"dataframe\">\n",
       "  <thead>\n",
       "    <tr style=\"text-align: right;\">\n",
       "      <th></th>\n",
       "      <th>GPS</th>\n",
       "      <th>catalog.shortName</th>\n",
       "      <th>chi_eff</th>\n",
       "      <th>chi_eff_lower</th>\n",
       "      <th>chi_eff_unit</th>\n",
       "      <th>chi_eff_upper</th>\n",
       "      <th>chirp_mass</th>\n",
       "      <th>chirp_mass_lower</th>\n",
       "      <th>chirp_mass_source</th>\n",
       "      <th>chirp_mass_source_lower</th>\n",
       "      <th>...</th>\n",
       "      <th>redshift</th>\n",
       "      <th>redshift_lower</th>\n",
       "      <th>redshift_unit</th>\n",
       "      <th>redshift_upper</th>\n",
       "      <th>reference</th>\n",
       "      <th>total_mass_source</th>\n",
       "      <th>total_mass_source_lower</th>\n",
       "      <th>total_mass_source_unit</th>\n",
       "      <th>total_mass_source_upper</th>\n",
       "      <th>version</th>\n",
       "    </tr>\n",
       "  </thead>\n",
       "  <tbody>\n",
       "    <tr>\n",
       "      <th>151008-v1</th>\n",
       "      <td>1.128349e+09</td>\n",
       "      <td>GWTC-1-marginal</td>\n",
       "      <td>NaN</td>\n",
       "      <td>NaN</td>\n",
       "      <td>None</td>\n",
       "      <td>NaN</td>\n",
       "      <td>5.12</td>\n",
       "      <td>NaN</td>\n",
       "      <td>NaN</td>\n",
       "      <td>NaN</td>\n",
       "      <td>...</td>\n",
       "      <td>NaN</td>\n",
       "      <td>NaN</td>\n",
       "      <td>None</td>\n",
       "      <td>NaN</td>\n",
       "      <td>https://doi.org/10.7935/82H3-HH23</td>\n",
       "      <td>NaN</td>\n",
       "      <td>NaN</td>\n",
       "      <td>None</td>\n",
       "      <td>NaN</td>\n",
       "      <td>1</td>\n",
       "    </tr>\n",
       "    <tr>\n",
       "      <th>151012.2-v1</th>\n",
       "      <td>1.128667e+09</td>\n",
       "      <td>GWTC-1-marginal</td>\n",
       "      <td>NaN</td>\n",
       "      <td>NaN</td>\n",
       "      <td>None</td>\n",
       "      <td>NaN</td>\n",
       "      <td>2.01</td>\n",
       "      <td>NaN</td>\n",
       "      <td>NaN</td>\n",
       "      <td>NaN</td>\n",
       "      <td>...</td>\n",
       "      <td>NaN</td>\n",
       "      <td>NaN</td>\n",
       "      <td>None</td>\n",
       "      <td>NaN</td>\n",
       "      <td>https://doi.org/10.7935/82H3-HH23</td>\n",
       "      <td>NaN</td>\n",
       "      <td>NaN</td>\n",
       "      <td>None</td>\n",
       "      <td>NaN</td>\n",
       "      <td>1</td>\n",
       "    </tr>\n",
       "    <tr>\n",
       "      <th>151116-v1</th>\n",
       "      <td>1.131749e+09</td>\n",
       "      <td>GWTC-1-marginal</td>\n",
       "      <td>NaN</td>\n",
       "      <td>NaN</td>\n",
       "      <td>None</td>\n",
       "      <td>NaN</td>\n",
       "      <td>1.24</td>\n",
       "      <td>NaN</td>\n",
       "      <td>NaN</td>\n",
       "      <td>NaN</td>\n",
       "      <td>...</td>\n",
       "      <td>NaN</td>\n",
       "      <td>NaN</td>\n",
       "      <td>None</td>\n",
       "      <td>NaN</td>\n",
       "      <td>https://doi.org/10.7935/82H3-HH23</td>\n",
       "      <td>NaN</td>\n",
       "      <td>NaN</td>\n",
       "      <td>None</td>\n",
       "      <td>NaN</td>\n",
       "      <td>1</td>\n",
       "    </tr>\n",
       "    <tr>\n",
       "      <th>161202-v1</th>\n",
       "      <td>1.164686e+09</td>\n",
       "      <td>GWTC-1-marginal</td>\n",
       "      <td>NaN</td>\n",
       "      <td>NaN</td>\n",
       "      <td>None</td>\n",
       "      <td>NaN</td>\n",
       "      <td>1.54</td>\n",
       "      <td>NaN</td>\n",
       "      <td>NaN</td>\n",
       "      <td>NaN</td>\n",
       "      <td>...</td>\n",
       "      <td>NaN</td>\n",
       "      <td>NaN</td>\n",
       "      <td>None</td>\n",
       "      <td>NaN</td>\n",
       "      <td>https://doi.org/10.7935/82H3-HH23</td>\n",
       "      <td>NaN</td>\n",
       "      <td>NaN</td>\n",
       "      <td>None</td>\n",
       "      <td>NaN</td>\n",
       "      <td>1</td>\n",
       "    </tr>\n",
       "    <tr>\n",
       "      <th>161217-v1</th>\n",
       "      <td>1.165994e+09</td>\n",
       "      <td>GWTC-1-marginal</td>\n",
       "      <td>NaN</td>\n",
       "      <td>NaN</td>\n",
       "      <td>None</td>\n",
       "      <td>NaN</td>\n",
       "      <td>7.86</td>\n",
       "      <td>NaN</td>\n",
       "      <td>NaN</td>\n",
       "      <td>NaN</td>\n",
       "      <td>...</td>\n",
       "      <td>NaN</td>\n",
       "      <td>NaN</td>\n",
       "      <td>None</td>\n",
       "      <td>NaN</td>\n",
       "      <td>https://doi.org/10.7935/82H3-HH23</td>\n",
       "      <td>NaN</td>\n",
       "      <td>NaN</td>\n",
       "      <td>None</td>\n",
       "      <td>NaN</td>\n",
       "      <td>1</td>\n",
       "    </tr>\n",
       "  </tbody>\n",
       "</table>\n",
       "<p>5 rows × 54 columns</p>\n",
       "</div>"
      ],
      "text/plain": [
       "                      GPS catalog.shortName  chi_eff  chi_eff_lower  \\\n",
       "151008-v1    1.128349e+09   GWTC-1-marginal      NaN            NaN   \n",
       "151012.2-v1  1.128667e+09   GWTC-1-marginal      NaN            NaN   \n",
       "151116-v1    1.131749e+09   GWTC-1-marginal      NaN            NaN   \n",
       "161202-v1    1.164686e+09   GWTC-1-marginal      NaN            NaN   \n",
       "161217-v1    1.165994e+09   GWTC-1-marginal      NaN            NaN   \n",
       "\n",
       "            chi_eff_unit  chi_eff_upper  chirp_mass  chirp_mass_lower  \\\n",
       "151008-v1           None            NaN        5.12               NaN   \n",
       "151012.2-v1         None            NaN        2.01               NaN   \n",
       "151116-v1           None            NaN        1.24               NaN   \n",
       "161202-v1           None            NaN        1.54               NaN   \n",
       "161217-v1           None            NaN        7.86               NaN   \n",
       "\n",
       "             chirp_mass_source  chirp_mass_source_lower  ... redshift  \\\n",
       "151008-v1                  NaN                      NaN  ...      NaN   \n",
       "151012.2-v1                NaN                      NaN  ...      NaN   \n",
       "151116-v1                  NaN                      NaN  ...      NaN   \n",
       "161202-v1                  NaN                      NaN  ...      NaN   \n",
       "161217-v1                  NaN                      NaN  ...      NaN   \n",
       "\n",
       "             redshift_lower redshift_unit  redshift_upper  \\\n",
       "151008-v1               NaN          None             NaN   \n",
       "151012.2-v1             NaN          None             NaN   \n",
       "151116-v1               NaN          None             NaN   \n",
       "161202-v1               NaN          None             NaN   \n",
       "161217-v1               NaN          None             NaN   \n",
       "\n",
       "                                     reference  total_mass_source  \\\n",
       "151008-v1    https://doi.org/10.7935/82H3-HH23                NaN   \n",
       "151012.2-v1  https://doi.org/10.7935/82H3-HH23                NaN   \n",
       "151116-v1    https://doi.org/10.7935/82H3-HH23                NaN   \n",
       "161202-v1    https://doi.org/10.7935/82H3-HH23                NaN   \n",
       "161217-v1    https://doi.org/10.7935/82H3-HH23                NaN   \n",
       "\n",
       "            total_mass_source_lower total_mass_source_unit  \\\n",
       "151008-v1                       NaN                   None   \n",
       "151012.2-v1                     NaN                   None   \n",
       "151116-v1                       NaN                   None   \n",
       "161202-v1                       NaN                   None   \n",
       "161217-v1                       NaN                   None   \n",
       "\n",
       "            total_mass_source_upper  version  \n",
       "151008-v1                       NaN        1  \n",
       "151012.2-v1                     NaN        1  \n",
       "151116-v1                       NaN        1  \n",
       "161202-v1                       NaN        1  \n",
       "161217-v1                       NaN        1  \n",
       "\n",
       "[5 rows x 54 columns]"
      ]
     },
     "execution_count": 14,
     "metadata": {},
     "output_type": "execute_result"
    }
   ],
   "source": [
    "df.head()"
   ]
  },
  {
   "cell_type": "code",
   "execution_count": null,
   "metadata": {},
   "outputs": [],
   "source": []
  }
 ],
 "metadata": {
  "colab": {
   "authorship_tag": "ABX9TyOBgPol6vAJ1r2NLzfGWj7W",
   "include_colab_link": true,
   "name": "02-simplifiedAlienHunting.ipynb",
   "provenance": []
  },
  "kernelspec": {
   "display_name": "Python 3 (ipykernel)",
   "language": "python",
   "name": "python3"
  },
  "language_info": {
   "codemirror_mode": {
    "name": "ipython",
    "version": 3
   },
   "file_extension": ".py",
   "mimetype": "text/x-python",
   "name": "python",
   "nbconvert_exporter": "python",
   "pygments_lexer": "ipython3",
   "version": "3.9.12"
  }
 },
 "nbformat": 4,
 "nbformat_minor": 1
}
